{
 "cells": [
  {
   "cell_type": "markdown",
   "metadata": {},
   "source": [
    "In this notebook, we walk through the design of target encoding. We start with a motivating example, `criteo dataset`, to show why target encoding is preferred over one hot encoding and label encoding. The concepts and optimizations of target encoding are introduced step by step. The key takeaway is that target encoding differs from traditional sklearn style encoders in the following aspects:\n",
    "\n",
    "- The ground truth column `target` is used as input for encoding.\n",
    "- The training data and test data are transformed differently.\n",
    "- Multi-column joint transformation is supported by target encoding."
   ]
  },
  {
   "cell_type": "markdown",
   "metadata": {},
   "source": [
    "### Table of contents\n",
    "[1. Motivation](#motivation)<br>\n",
    "> [Criteo data](#criteo)<br>\n",
    "[Why not one-hot encoding?](#onehot)<br>\n",
    "[Label encoding](#lbl)<br>\n",
    "[Train XGB with label encoding ](#lblxgb)<br>\n",
    "\n",
    "[2. Target Encoding](#tar)<br>\n",
    "> [A naive implementation](#naive)<br>\n",
    "[A K-fold cross validate implementation](#kfold)<br>\n",
    "[An optimized implementation](#opt)<br>\n",
    "[Multi-column joint encoding](#multi)<br>\n",
    "\n",
    "[3. Conclusions](#conclusions)<br>"
   ]
  },
  {
   "cell_type": "code",
   "execution_count": 1,
   "metadata": {},
   "outputs": [],
   "source": [
    "import os\n",
    "GPU_id = '0,1,2,3'\n",
    "os.environ['CUDA_VISIBLE_DEVICES'] = GPU_id\n",
    "num_gpus = len(GPU_id.split(','))"
   ]
  },
  {
   "cell_type": "code",
   "execution_count": 2,
   "metadata": {},
   "outputs": [],
   "source": [
    "import warnings\n",
    "warnings.filterwarnings(\"ignore\")\n",
    "\n",
    "import numpy as np\n",
    "import cudf as gd\n",
    "import cupy as cp\n",
    "from cuml.preprocessing.LabelEncoder import LabelEncoder\n",
    "import dask as dask, dask_cudf\n",
    "from dask.distributed import Client, wait\n",
    "from dask_cuda import LocalCUDACluster\n",
    "import xgboost as xgb\n",
    "import matplotlib.pyplot as plt\n",
    "import time"
   ]
  },
  {
   "cell_type": "markdown",
   "metadata": {},
   "source": [
    "<a id=\"motivation\"></a>\n",
    "## 1. Motivation"
   ]
  },
  {
   "cell_type": "markdown",
   "metadata": {},
   "source": [
    "<a id=\"criteo\"></a>\n",
    "### Criteo data\n",
    "The [criteo 1-TB benchmark](https://github.com/rambler-digital-solutions/criteo-1tb-benchmark) is a well-known dataset for click thourgh rate modeling. We only use three categorical features to make it a simple dataset for the problem."
   ]
  },
  {
   "cell_type": "code",
   "execution_count": 3,
   "metadata": {},
   "outputs": [
    {
     "name": "stdout",
     "output_type": "stream",
     "text": [
      "CPU times: user 1.34 s, sys: 717 ms, total: 2.05 s\n",
      "Wall time: 2.06 s\n"
     ]
    },
    {
     "data": {
      "text/html": [
       "<div>\n",
       "<style scoped>\n",
       "    .dataframe tbody tr th:only-of-type {\n",
       "        vertical-align: middle;\n",
       "    }\n",
       "\n",
       "    .dataframe tbody tr th {\n",
       "        vertical-align: top;\n",
       "    }\n",
       "\n",
       "    .dataframe thead th {\n",
       "        text-align: right;\n",
       "    }\n",
       "</style>\n",
       "<table border=\"1\" class=\"dataframe\">\n",
       "  <thead>\n",
       "    <tr style=\"text-align: right;\">\n",
       "      <th></th>\n",
       "      <th>label</th>\n",
       "      <th>cat_0</th>\n",
       "      <th>cat_1</th>\n",
       "      <th>cat_2</th>\n",
       "    </tr>\n",
       "  </thead>\n",
       "  <tbody>\n",
       "    <tr>\n",
       "      <th>0</th>\n",
       "      <td>1</td>\n",
       "      <td>62770d79</td>\n",
       "      <td>e21f5d58</td>\n",
       "      <td>afea442f</td>\n",
       "    </tr>\n",
       "    <tr>\n",
       "      <th>1</th>\n",
       "      <td>0</td>\n",
       "      <td>e5f3fd8d</td>\n",
       "      <td>a0aaffa6</td>\n",
       "      <td>6faa15d5</td>\n",
       "    </tr>\n",
       "    <tr>\n",
       "      <th>2</th>\n",
       "      <td>0</td>\n",
       "      <td>62770d79</td>\n",
       "      <td>ad984203</td>\n",
       "      <td>62bec60d</td>\n",
       "    </tr>\n",
       "    <tr>\n",
       "      <th>3</th>\n",
       "      <td>0</td>\n",
       "      <td>None</td>\n",
       "      <td>710103fd</td>\n",
       "      <td>c73d2eb5</td>\n",
       "    </tr>\n",
       "    <tr>\n",
       "      <th>4</th>\n",
       "      <td>0</td>\n",
       "      <td>02e197c5</td>\n",
       "      <td>c2ced437</td>\n",
       "      <td>a2427619</td>\n",
       "    </tr>\n",
       "  </tbody>\n",
       "</table>\n",
       "</div>"
      ],
      "text/plain": [
       "   label     cat_0     cat_1     cat_2\n",
       "0      1  62770d79  e21f5d58  afea442f\n",
       "1      0  e5f3fd8d  a0aaffa6  6faa15d5\n",
       "2      0  62770d79  ad984203  62bec60d\n",
       "3      0      None  710103fd  c73d2eb5\n",
       "4      0  02e197c5  c2ced437  a2427619"
      ]
     },
     "execution_count": 3,
     "metadata": {},
     "output_type": "execute_result"
    }
   ],
   "source": [
    "%%time\n",
    "\n",
    "path = '/raid/data/criteo'\n",
    "train_name = f'{path}/day_0_part_0000'\n",
    "valid_name = f'{path}/day_0_part_0001'\n",
    "num_cols = ['num_%d'%i for i in range(13)]\n",
    "cat_cols = ['cat_%d'%i for i in range(26)]\n",
    "cols = ['label']+num_cols+cat_cols\n",
    "dtypes = {i:'str' if i.startswith('cat_') else 'float32' for i in cols}\n",
    "train = gd.read_csv(train_name, sep = '\\t', header=None, names=cols, dtypes=dtypes)\n",
    "valid = gd.read_csv(valid_name, sep = '\\t', header=None, names=cols, dtypes=dtypes)\n",
    "\n",
    "used_cols = ['label']+cat_cols[:3]\n",
    "\n",
    "train = train[used_cols]\n",
    "valid = valid[used_cols]\n",
    "train.head()"
   ]
  },
  {
   "cell_type": "markdown",
   "metadata": {},
   "source": [
    "The categorical columns are strings originally so we need some kind of encoding to turn them into numerical columns."
   ]
  },
  {
   "cell_type": "markdown",
   "metadata": {},
   "source": [
    "<a id=\"onehot\"></a>\n",
    "### Why not one-hot encoding?"
   ]
  },
  {
   "cell_type": "code",
   "execution_count": 4,
   "metadata": {},
   "outputs": [
    {
     "name": "stdout",
     "output_type": "stream",
     "text": [
      "cat_0 cardinality 344950 341085\n",
      "cat_1 cardinality 14969 14735\n",
      "cat_2 cardinality 12657 12509\n"
     ]
    }
   ],
   "source": [
    "for col in cat_cols[:3]:\n",
    "    print(col,'cardinality',len(train[col].unique()), len(valid[col].unique()))"
   ]
  },
  {
   "cell_type": "markdown",
   "metadata": {},
   "source": [
    "With such high cardinality, it is inefficient to do one-hot encoding because it leads to either huge memory consumption or very sparse data, which is less optimized when running on GPU.\n",
    "\n",
    "Therefore, we use label encoding to transform such string columns to numerical columns."
   ]
  },
  {
   "cell_type": "markdown",
   "metadata": {},
   "source": [
    "<a id=\"lbl\"></a>\n",
    "### Label encoding"
   ]
  },
  {
   "cell_type": "code",
   "execution_count": 5,
   "metadata": {},
   "outputs": [
    {
     "name": "stdout",
     "output_type": "stream",
     "text": [
      "CPU times: user 521 ms, sys: 321 ms, total: 842 ms\n",
      "Wall time: 843 ms\n"
     ]
    }
   ],
   "source": [
    "%%time\n",
    "for col in cat_cols[:3]:\n",
    "    train[col] = train[col].fillna('None')\n",
    "    valid[col] = valid[col].fillna('None')\n",
    "    lbl = LabelEncoder()\n",
    "    lbl.fit(gd.concat([train[col],valid[col]]))\n",
    "    train[col] = lbl.transform(train[col])\n",
    "    valid[col] = lbl.transform(valid[col])"
   ]
  },
  {
   "cell_type": "code",
   "execution_count": 6,
   "metadata": {},
   "outputs": [
    {
     "data": {
      "text/html": [
       "<div>\n",
       "<style scoped>\n",
       "    .dataframe tbody tr th:only-of-type {\n",
       "        vertical-align: middle;\n",
       "    }\n",
       "\n",
       "    .dataframe tbody tr th {\n",
       "        vertical-align: top;\n",
       "    }\n",
       "\n",
       "    .dataframe thead th {\n",
       "        text-align: right;\n",
       "    }\n",
       "</style>\n",
       "<table border=\"1\" class=\"dataframe\">\n",
       "  <thead>\n",
       "    <tr style=\"text-align: right;\">\n",
       "      <th></th>\n",
       "      <th>label</th>\n",
       "      <th>cat_0</th>\n",
       "      <th>cat_1</th>\n",
       "      <th>cat_2</th>\n",
       "    </tr>\n",
       "  </thead>\n",
       "  <tbody>\n",
       "    <tr>\n",
       "      <th>0</th>\n",
       "      <td>1</td>\n",
       "      <td>236119</td>\n",
       "      <td>15269</td>\n",
       "      <td>9218</td>\n",
       "    </tr>\n",
       "    <tr>\n",
       "      <th>1</th>\n",
       "      <td>0</td>\n",
       "      <td>552635</td>\n",
       "      <td>10839</td>\n",
       "      <td>5875</td>\n",
       "    </tr>\n",
       "    <tr>\n",
       "      <th>2</th>\n",
       "      <td>0</td>\n",
       "      <td>236119</td>\n",
       "      <td>11675</td>\n",
       "      <td>5199</td>\n",
       "    </tr>\n",
       "    <tr>\n",
       "      <th>3</th>\n",
       "      <td>0</td>\n",
       "      <td>384082</td>\n",
       "      <td>7647</td>\n",
       "      <td>10421</td>\n",
       "    </tr>\n",
       "    <tr>\n",
       "      <th>4</th>\n",
       "      <td>0</td>\n",
       "      <td>6992</td>\n",
       "      <td>13137</td>\n",
       "      <td>8523</td>\n",
       "    </tr>\n",
       "  </tbody>\n",
       "</table>\n",
       "</div>"
      ],
      "text/plain": [
       "   label   cat_0  cat_1  cat_2\n",
       "0      1  236119  15269   9218\n",
       "1      0  552635  10839   5875\n",
       "2      0  236119  11675   5199\n",
       "3      0  384082   7647  10421\n",
       "4      0    6992  13137   8523"
      ]
     },
     "execution_count": 6,
     "metadata": {},
     "output_type": "execute_result"
    }
   ],
   "source": [
    "train.head()"
   ]
  },
  {
   "cell_type": "markdown",
   "metadata": {},
   "source": [
    "Label encoding transforms string columns to integer columns. However, the mapping from a string to an integer is arbitary, which makes the encoded features less informative. For example, the first three rows of `cat_2` are `9218`, `5875` and `5199`. Although `5875` is closer to `5199` than `9218`, there is absolutely no guarantee that the string of `5875` is more similar to string of `5199` than string of `9218`. In other words, a tree classifier has make many splits to learn the pattern buried within such encoded features.   "
   ]
  },
  {
   "cell_type": "markdown",
   "metadata": {},
   "source": [
    "<a id=\"lblxgb\"></a>\n",
    "### Train XGB with label encoding features"
   ]
  },
  {
   "cell_type": "code",
   "execution_count": 7,
   "metadata": {},
   "outputs": [],
   "source": [
    "xgb_parms = { \n",
    "    'max_depth':6, \n",
    "    'learning_rate':0.1, \n",
    "    'subsample':0.8,\n",
    "    'colsample_bytree':0.3, \n",
    "    'eval_metric':'auc',\n",
    "    'objective':'binary:logistic',\n",
    "    'tree_method':'gpu_hist',\n",
    "}"
   ]
  },
  {
   "cell_type": "code",
   "execution_count": 8,
   "metadata": {},
   "outputs": [
    {
     "name": "stdout",
     "output_type": "stream",
     "text": [
      "Creating DMatrix...\n",
      "Took 0.1 seconds\n",
      "Training...\n",
      "[0]\ttrain-auc:0.55893\tvalid-auc:0.55159\n",
      "Multiple eval metrics have been passed: 'valid-auc' will be used for early stopping.\n",
      "\n",
      "Will train until valid-auc hasn't improved in 10 rounds.\n",
      "[10]\ttrain-auc:0.61074\tvalid-auc:0.60278\n",
      "[20]\ttrain-auc:0.61219\tvalid-auc:0.60475\n",
      "Stopping. Best iteration:\n",
      "[17]\ttrain-auc:0.61445\tvalid-auc:0.60751\n",
      "\n"
     ]
    }
   ],
   "source": [
    "NROUND = 100\n",
    "VERBOSE_EVAL = 10\n",
    "ESR = 10\n",
    "\n",
    "start = time.time(); print('Creating DMatrix...')\n",
    "dtrain = xgb.DMatrix(data=train.drop('label',axis=1),label=train['label'])\n",
    "dvalid = xgb.DMatrix(data=valid.drop('label',axis=1),label=valid['label'])\n",
    "print('Took %.1f seconds'%(time.time()-start))\n",
    "\n",
    "start = time.time(); print('Training...')\n",
    "model = xgb.train(xgb_parms, \n",
    "                       dtrain=dtrain,\n",
    "                       evals=[(dtrain,'train'),(dvalid,'valid')],\n",
    "                       num_boost_round=NROUND,\n",
    "                       early_stopping_rounds=ESR,\n",
    "                       verbose_eval=VERBOSE_EVAL) "
   ]
  },
  {
   "cell_type": "markdown",
   "metadata": {},
   "source": [
    "As shown above, using label encoding features results in a valid auc score of 0.60. Let's see if target encoding can improve this score."
   ]
  },
  {
   "cell_type": "markdown",
   "metadata": {},
   "source": [
    "<a id=\"tar\"></a>\n",
    "## 2. Target encoding"
   ]
  },
  {
   "cell_type": "markdown",
   "metadata": {},
   "source": [
    "The idea of target encoding is very simple: we encode the categorical column by the mean value of the `target` of the group associated with each unique value of the categorical column, where `target` is the ground truth column to be predicted. In other words, it is essentially just a simple groupby-aggregation-merge or `groupby-transform`, in pandas terms:<br> `df['fea_encode'] = df.groupby('fea')['target'].transform(lambda x: x.mean())`"
   ]
  },
  {
   "cell_type": "markdown",
   "metadata": {},
   "source": [
    "<a id=\"naive\"></a>\n",
    "### A naive implementation\n",
    "Let's implement targe encoding of the idea above and study where we can improve."
   ]
  },
  {
   "cell_type": "code",
   "execution_count": 9,
   "metadata": {},
   "outputs": [
    {
     "name": "stdout",
     "output_type": "stream",
     "text": [
      "CPU times: user 76.7 ms, sys: 24.6 ms, total: 101 ms\n",
      "Wall time: 100 ms\n"
     ]
    },
    {
     "data": {
      "text/html": [
       "<div>\n",
       "<style scoped>\n",
       "    .dataframe tbody tr th:only-of-type {\n",
       "        vertical-align: middle;\n",
       "    }\n",
       "\n",
       "    .dataframe tbody tr th {\n",
       "        vertical-align: top;\n",
       "    }\n",
       "\n",
       "    .dataframe thead th {\n",
       "        text-align: right;\n",
       "    }\n",
       "</style>\n",
       "<table border=\"1\" class=\"dataframe\">\n",
       "  <thead>\n",
       "    <tr style=\"text-align: right;\">\n",
       "      <th></th>\n",
       "      <th>label</th>\n",
       "      <th>cat_0</th>\n",
       "      <th>cat_1</th>\n",
       "      <th>cat_2</th>\n",
       "      <th>cat_0_TE</th>\n",
       "      <th>cat_1_TE</th>\n",
       "      <th>cat_2_TE</th>\n",
       "    </tr>\n",
       "  </thead>\n",
       "  <tbody>\n",
       "    <tr>\n",
       "      <th>0</th>\n",
       "      <td>0</td>\n",
       "      <td>331710</td>\n",
       "      <td>4302</td>\n",
       "      <td>9458</td>\n",
       "      <td>0.010220</td>\n",
       "      <td>0.007404</td>\n",
       "      <td>0.000000</td>\n",
       "    </tr>\n",
       "    <tr>\n",
       "      <th>1</th>\n",
       "      <td>0</td>\n",
       "      <td>511504</td>\n",
       "      <td>13628</td>\n",
       "      <td>4878</td>\n",
       "      <td>0.047717</td>\n",
       "      <td>0.049066</td>\n",
       "      <td>0.030230</td>\n",
       "    </tr>\n",
       "    <tr>\n",
       "      <th>2</th>\n",
       "      <td>0</td>\n",
       "      <td>155375</td>\n",
       "      <td>4518</td>\n",
       "      <td>4922</td>\n",
       "      <td>0.061069</td>\n",
       "      <td>0.043478</td>\n",
       "      <td>0.012175</td>\n",
       "    </tr>\n",
       "    <tr>\n",
       "      <th>3</th>\n",
       "      <td>0</td>\n",
       "      <td>91607</td>\n",
       "      <td>15196</td>\n",
       "      <td>2491</td>\n",
       "      <td>0.037622</td>\n",
       "      <td>0.086066</td>\n",
       "      <td>0.056960</td>\n",
       "    </tr>\n",
       "    <tr>\n",
       "      <th>4</th>\n",
       "      <td>0</td>\n",
       "      <td>103851</td>\n",
       "      <td>3213</td>\n",
       "      <td>2782</td>\n",
       "      <td>0.000000</td>\n",
       "      <td>0.024103</td>\n",
       "      <td>0.047386</td>\n",
       "    </tr>\n",
       "  </tbody>\n",
       "</table>\n",
       "</div>"
      ],
      "text/plain": [
       "   label   cat_0  cat_1  cat_2  cat_0_TE  cat_1_TE  cat_2_TE\n",
       "0      0  331710   4302   9458  0.010220  0.007404  0.000000\n",
       "1      0  511504  13628   4878  0.047717  0.049066  0.030230\n",
       "2      0  155375   4518   4922  0.061069  0.043478  0.012175\n",
       "3      0   91607  15196   2491  0.037622  0.086066  0.056960\n",
       "4      0  103851   3213   2782  0.000000  0.024103  0.047386"
      ]
     },
     "execution_count": 9,
     "metadata": {},
     "output_type": "execute_result"
    }
   ],
   "source": [
    "%%time\n",
    "for col in cat_cols[:3]:\n",
    "    tmp = train.groupby(col, as_index=False).agg({'label':'mean'})\n",
    "    tmp.columns = [col, f'{col}_TE']\n",
    "    train = train.merge(tmp, on=col, how='left')\n",
    "    valid = valid.merge(tmp, on=col, how='left')\n",
    "    del tmp\n",
    "train.head()"
   ]
  },
  {
   "cell_type": "markdown",
   "metadata": {},
   "source": [
    "We will only use the target encoding features to train XGB."
   ]
  },
  {
   "cell_type": "code",
   "execution_count": 10,
   "metadata": {},
   "outputs": [
    {
     "name": "stdout",
     "output_type": "stream",
     "text": [
      "['cat_0_TE', 'cat_1_TE', 'cat_2_TE']\n",
      "Creating DMatrix...\n",
      "Took 0.0 seconds\n",
      "Training...\n",
      "[0]\ttrain-auc:0.79707\tvalid-auc:0.55546\n",
      "Multiple eval metrics have been passed: 'valid-auc' will be used for early stopping.\n",
      "\n",
      "Will train until valid-auc hasn't improved in 10 rounds.\n",
      "[10]\ttrain-auc:0.84162\tvalid-auc:0.63906\n",
      "[20]\ttrain-auc:0.84085\tvalid-auc:0.65804\n",
      "[30]\ttrain-auc:0.84032\tvalid-auc:0.68096\n",
      "[40]\ttrain-auc:0.84373\tvalid-auc:0.67309\n",
      "Stopping. Best iteration:\n",
      "[33]\ttrain-auc:0.83985\tvalid-auc:0.68734\n",
      "\n"
     ]
    }
   ],
   "source": [
    "te_cols = [col for col in train.columns if col.endswith('TE')]\n",
    "print(te_cols)\n",
    "\n",
    "NROUND = 100\n",
    "VERBOSE_EVAL = 10\n",
    "ESR = 10\n",
    "\n",
    "start = time.time(); print('Creating DMatrix...')\n",
    "dtrain = xgb.DMatrix(data=train[te_cols],label=train['label'])\n",
    "dvalid = xgb.DMatrix(data=valid[te_cols],label=valid['label'])\n",
    "print('Took %.1f seconds'%(time.time()-start))\n",
    "\n",
    "start = time.time(); print('Training...')\n",
    "model = xgb.train(xgb_parms, \n",
    "                       dtrain=dtrain,\n",
    "                       evals=[(dtrain,'train'),(dvalid,'valid')],\n",
    "                       num_boost_round=NROUND,\n",
    "                       early_stopping_rounds=ESR,\n",
    "                       verbose_eval=VERBOSE_EVAL) "
   ]
  },
  {
   "cell_type": "markdown",
   "metadata": {},
   "source": [
    "Immediately the valid auc is improved to `0.65` from `0.6`, even with the naive target encoding. Great! However, the bigger discrepancy between `train auc` and `valid auc` is alarming. It means the naive target encoding is creating an overfitting problem. "
   ]
  },
  {
   "cell_type": "code",
   "execution_count": 11,
   "metadata": {},
   "outputs": [
    {
     "data": {
      "text/plain": [
       "<matplotlib.legend.Legend at 0x7fd82feae950>"
      ]
     },
     "execution_count": 11,
     "metadata": {},
     "output_type": "execute_result"
    },
    {
     "data": {
      "image/png": "[encoded data removed]",
      "text/plain": [
       "<Figure size 432x288 with 1 Axes>"
      ]
     },
     "metadata": {
      "needs_background": "light"
     },
     "output_type": "display_data"
    }
   ],
   "source": [
    "labels = ['Label encoding', 'Target encoding naive']\n",
    "train_auc = [0.61, 0.83]\n",
    "valid_auc = [0.60, 0.65]\n",
    "\n",
    "x = np.arange(len(labels))  # the label locations\n",
    "width = 0.35  # the width of the bars\n",
    "\n",
    "fig, ax = plt.subplots()\n",
    "rects1 = ax.bar(x - width/2, train_auc, width, label='train auc', color='m')\n",
    "rects2 = ax.bar(x + width/2, valid_auc, width, label='valid auc', color='c')\n",
    "\n",
    "ax.set_ylabel('Auc')\n",
    "ax.set_title('The overfitting problem of naive target encoding')\n",
    "ax.set_xticks(x)\n",
    "ax.set_xticklabels(labels)\n",
    "ax.legend()"
   ]
  },
  {
   "cell_type": "markdown",
   "metadata": {},
   "source": [
    "The cause is actually obvious. We use the ground truth column directly in creating the features for the training data, which doesn't generalize to validation data  "
   ]
  },
  {
   "cell_type": "markdown",
   "metadata": {},
   "source": [
    "<a id=\"kfold\"></a>\n",
    "### A K-fold cross validate implementation\n",
    "To alleviate such overfitting, we can encode the traning data in k-folds, so that a sample's ground truth is not touched when creating its target encoding feature. The procedure is shown in the animation below.<br>\n",
    "![ChessUrl](https://www.googleapis.com/download/storage/v1/b/kaggle-user-content/o/inbox%2F100236%2F64cc45bbe25144503bc93cf4b9e102f1%2Fmte.gif?generation=1594620515929361&alt=media \"chess\")"
   ]
  },
  {
   "cell_type": "code",
   "execution_count": 12,
   "metadata": {},
   "outputs": [],
   "source": [
    "# drop the naive TE columns\n",
    "train = train.drop(te_cols, axis=1)\n",
    "valid = valid.drop(te_cols, axis=1)"
   ]
  },
  {
   "cell_type": "code",
   "execution_count": 13,
   "metadata": {},
   "outputs": [
    {
     "name": "stdout",
     "output_type": "stream",
     "text": [
      "CPU times: user 715 ms, sys: 447 ms, total: 1.16 s\n",
      "Wall time: 1.17 s\n"
     ]
    },
    {
     "data": {
      "text/html": [
       "<div>\n",
       "<style scoped>\n",
       "    .dataframe tbody tr th:only-of-type {\n",
       "        vertical-align: middle;\n",
       "    }\n",
       "\n",
       "    .dataframe tbody tr th {\n",
       "        vertical-align: top;\n",
       "    }\n",
       "\n",
       "    .dataframe thead th {\n",
       "        text-align: right;\n",
       "    }\n",
       "</style>\n",
       "<table border=\"1\" class=\"dataframe\">\n",
       "  <thead>\n",
       "    <tr style=\"text-align: right;\">\n",
       "      <th></th>\n",
       "      <th>label</th>\n",
       "      <th>cat_0</th>\n",
       "      <th>cat_1</th>\n",
       "      <th>cat_2</th>\n",
       "      <th>fold</th>\n",
       "      <th>row_id</th>\n",
       "      <th>cat_0_TE</th>\n",
       "      <th>cat_1_TE</th>\n",
       "      <th>cat_2_TE</th>\n",
       "    </tr>\n",
       "  </thead>\n",
       "  <tbody>\n",
       "    <tr>\n",
       "      <th>0</th>\n",
       "      <td>0</td>\n",
       "      <td>331710</td>\n",
       "      <td>4302</td>\n",
       "      <td>9458</td>\n",
       "      <td>7</td>\n",
       "      <td>0</td>\n",
       "      <td>0.009765</td>\n",
       "      <td>0.006468</td>\n",
       "      <td>0.000000</td>\n",
       "    </tr>\n",
       "    <tr>\n",
       "      <th>1</th>\n",
       "      <td>0</td>\n",
       "      <td>511504</td>\n",
       "      <td>13628</td>\n",
       "      <td>4878</td>\n",
       "      <td>7</td>\n",
       "      <td>1</td>\n",
       "      <td>0.048398</td>\n",
       "      <td>0.049145</td>\n",
       "      <td>0.031058</td>\n",
       "    </tr>\n",
       "    <tr>\n",
       "      <th>2</th>\n",
       "      <td>0</td>\n",
       "      <td>155375</td>\n",
       "      <td>4518</td>\n",
       "      <td>4922</td>\n",
       "      <td>5</td>\n",
       "      <td>2</td>\n",
       "      <td>0.069264</td>\n",
       "      <td>0.047619</td>\n",
       "      <td>0.011772</td>\n",
       "    </tr>\n",
       "    <tr>\n",
       "      <th>3</th>\n",
       "      <td>0</td>\n",
       "      <td>91607</td>\n",
       "      <td>15196</td>\n",
       "      <td>2491</td>\n",
       "      <td>5</td>\n",
       "      <td>3</td>\n",
       "      <td>0.037779</td>\n",
       "      <td>0.085263</td>\n",
       "      <td>0.056983</td>\n",
       "    </tr>\n",
       "    <tr>\n",
       "      <th>4</th>\n",
       "      <td>0</td>\n",
       "      <td>103851</td>\n",
       "      <td>3213</td>\n",
       "      <td>2782</td>\n",
       "      <td>9</td>\n",
       "      <td>4</td>\n",
       "      <td>0.000000</td>\n",
       "      <td>0.024675</td>\n",
       "      <td>0.049724</td>\n",
       "    </tr>\n",
       "  </tbody>\n",
       "</table>\n",
       "</div>"
      ],
      "text/plain": [
       "   label   cat_0  cat_1  cat_2  fold  row_id  cat_0_TE  cat_1_TE  cat_2_TE\n",
       "0      0  331710   4302   9458     7       0  0.009765  0.006468  0.000000\n",
       "1      0  511504  13628   4878     7       1  0.048398  0.049145  0.031058\n",
       "2      0  155375   4518   4922     5       2  0.069264  0.047619  0.011772\n",
       "3      0   91607  15196   2491     5       3  0.037779  0.085263  0.056983\n",
       "4      0  103851   3213   2782     9       4  0.000000  0.024675  0.049724"
      ]
     },
     "execution_count": 13,
     "metadata": {},
     "output_type": "execute_result"
    }
   ],
   "source": [
    "%%time\n",
    "FOLDS = 10\n",
    "train['fold'] = cp.random.randint(0,FOLDS,len(train))\n",
    "train['row_id'] = cp.arange(len(train))\n",
    "mean = train['label'].mean()\n",
    "for col in cat_cols[:3]:\n",
    "    res = []\n",
    "    out_col = f'{col}_TE'\n",
    "    for i in range(FOLDS):\n",
    "        tmp = train[train['fold']!=i].groupby(col, as_index=False).agg({'label':'mean'})\n",
    "        tmp.columns = [col, out_col]\n",
    "        tr = train[train['fold']==i][['row_id',col]]\n",
    "        tr = tr.merge(tmp,on=col,how='left')\n",
    "        res.append(tr)\n",
    "        del tmp\n",
    "    res = gd.concat(res)\n",
    "    res = res.sort_values('row_id')\n",
    "    train[out_col] = res[out_col].fillna(mean).values\n",
    "    del res\n",
    "    tmp = train.groupby(col, as_index=False).agg({'label':'mean'})\n",
    "    tmp.columns = [col, out_col]\n",
    "    valid = valid.merge(tmp, on=col, how='left')\n",
    "    del tmp\n",
    "train.head()"
   ]
  },
  {
   "cell_type": "markdown",
   "metadata": {},
   "source": [
    "A key observation here is that training data and test/validation data are encoded differently. The training data is encoded using this *fancy kfold cross validated* fashion while test data is encoded just using *group mean*. Comparing to `LabelEncoder`, the implication is that with `TargetEncoder`we can't use the exactly same api `transform` for both `training data` and `test data`.\n",
    "\n",
    "```\n",
    "# Using transform for both data works\n",
    "lbl = LabelEncoder()\n",
    "lbl.fit(gd.concat([train[col],valid[col]]))\n",
    "train[col] = lbl.transform(train[col])\n",
    "valid[col] = lbl.transform(valid[col])\n",
    "\n",
    "# Using transform for both data doesn't work\n",
    "tar = TargetEncoder()\n",
    "tar.fit(train[col], train['target'])\n",
    "train[col] = tar.transform(train[col]) \n",
    "valid[col] = tar.transform(valid[col])\n",
    "```"
   ]
  },
  {
   "cell_type": "code",
   "execution_count": 14,
   "metadata": {},
   "outputs": [
    {
     "name": "stdout",
     "output_type": "stream",
     "text": [
      "['cat_0_TE', 'cat_1_TE', 'cat_2_TE']\n",
      "Creating DMatrix...\n",
      "Took 0.0 seconds\n",
      "Training...\n",
      "[0]\ttrain-auc:0.60664\tvalid-auc:0.58751\n",
      "Multiple eval metrics have been passed: 'valid-auc' will be used for early stopping.\n",
      "\n",
      "Will train until valid-auc hasn't improved in 10 rounds.\n",
      "[10]\ttrain-auc:0.69892\tvalid-auc:0.69001\n",
      "[20]\ttrain-auc:0.69657\tvalid-auc:0.68331\n",
      "Stopping. Best iteration:\n",
      "[10]\ttrain-auc:0.69892\tvalid-auc:0.69001\n",
      "\n"
     ]
    }
   ],
   "source": [
    "te_cols = [col for col in train.columns if col.endswith('TE')]\n",
    "print(te_cols)\n",
    "\n",
    "NROUND = 100\n",
    "VERBOSE_EVAL = 10\n",
    "ESR = 10\n",
    "\n",
    "start = time.time(); print('Creating DMatrix...')\n",
    "dtrain = xgb.DMatrix(data=train[te_cols],label=train['label'])\n",
    "dvalid = xgb.DMatrix(data=valid[te_cols],label=valid['label'])\n",
    "print('Took %.1f seconds'%(time.time()-start))\n",
    "\n",
    "start = time.time(); print('Training...')\n",
    "model = xgb.train(xgb_parms, \n",
    "                       dtrain=dtrain,\n",
    "                       evals=[(dtrain,'train'),(dvalid,'valid')],\n",
    "                       num_boost_round=NROUND,\n",
    "                       early_stopping_rounds=ESR,\n",
    "                       verbose_eval=VERBOSE_EVAL) "
   ]
  },
  {
   "cell_type": "code",
   "execution_count": 15,
   "metadata": {},
   "outputs": [
    {
     "data": {
      "text/plain": [
       "<matplotlib.legend.Legend at 0x7fd8291a8cd0>"
      ]
     },
     "execution_count": 15,
     "metadata": {},
     "output_type": "execute_result"
    },
    {
     "data": {
      "image/png": "[encoded data removed]",
      "text/plain": [
       "<Figure size 1080x288 with 1 Axes>"
      ]
     },
     "metadata": {
      "needs_background": "light"
     },
     "output_type": "display_data"
    }
   ],
   "source": [
    "labels = ['Label encoding', 'Target encoding naive', 'Target encoding kfold for loop']\n",
    "train_auc = [0.61, 0.83, 0.71]\n",
    "valid_auc = [0.60, 0.65, 0.7]\n",
    "\n",
    "x = np.arange(len(labels))  # the label locations\n",
    "width = 0.35  # the width of the bars\n",
    "\n",
    "fig, ax = plt.subplots()\n",
    "fig.set_figwidth(15)\n",
    "rects1 = ax.bar(x - width/2, train_auc, width, label='train auc', color='m')\n",
    "rects2 = ax.bar(x + width/2, valid_auc, width, label='valid auc', color='c')\n",
    "\n",
    "ax.set_ylabel('Auc')\n",
    "ax.set_title('The overfitting problem is fixed by kfold target encoding')\n",
    "ax.set_xticks(x)\n",
    "ax.set_xticklabels(labels)\n",
    "ax.legend()"
   ]
  },
  {
   "cell_type": "markdown",
   "metadata": {},
   "source": [
    "<a id=\"opt\"></a>\n",
    "### An optimized implementation\n",
    "We can make further improvements:\n",
    "- calculate the encoding in one shot instead of the for loop.\n",
    "- encode one column or many columns jointly\n",
    "- smooth the encoding so that it is not skewed by infrequent values.\n",
    "- support both single and multi gpus"
   ]
  },
  {
   "cell_type": "code",
   "execution_count": 16,
   "metadata": {},
   "outputs": [],
   "source": [
    "class TargetEncoder:\n",
    "    \n",
    "    def __init__(self, folds, smooth, seed=42, mode='gpu'):\n",
    "        self.folds = folds\n",
    "        self.seed = seed\n",
    "        self.smooth = smooth\n",
    "        if mode=='gpu':\n",
    "            self.np = cp\n",
    "            self.df = gd\n",
    "        else:\n",
    "            self.np = np\n",
    "            self.df = pd\n",
    "        self.mode = mode\n",
    "        \n",
    "    def fit_transform(self, train, x_col, y_col, y_mean=None, out_col = None, out_dtype=None):\n",
    "        \n",
    "        self.y_col = y_col\n",
    "        self.np.random.seed(self.seed)\n",
    "        \n",
    "        if 'fold' not in train.columns:\n",
    "            fsize = len(train)//self.folds\n",
    "            if isinstance(train,dask_cudf.core.DataFrame):\n",
    "                #train['fold'] = train.map_partitions(lambda cudf_df: cudf_df.index%self.folds)\n",
    "                train['fold'] = 1\n",
    "                train['fold'] = train['fold'].cumsum()\n",
    "                train['fold'] = train['fold']//fsize\n",
    "                train['fold'] = train['fold']%self.folds\n",
    "            else:\n",
    "                #train['fold'] = self.np.random.randint(0,self.folds,len(train))\n",
    "                train['fold'] = (train.index.values//fsize)%self.folds\n",
    "        \n",
    "        if out_col is None:\n",
    "            tag = x_col if isinstance(x_col,str) else '_'.join(x_col)\n",
    "            out_col = f'TE_{tag}_{self.y_col}'\n",
    "        \n",
    "        if y_mean is None:\n",
    "            y_mean = train[y_col].mean()#.compute().astype('float32')\n",
    "        self.mean = y_mean\n",
    "        \n",
    "        cols = ['fold',x_col] if isinstance(x_col,str) else ['fold']+x_col\n",
    "        \n",
    "        agg_each_fold = train.groupby(cols).agg({y_col:['count','sum']}).reset_index()\n",
    "        agg_each_fold.columns = cols + ['count_y','sum_y']\n",
    "        \n",
    "        agg_all = agg_each_fold.groupby(x_col).agg({'count_y':'sum','sum_y':'sum'}).reset_index()\n",
    "        cols = [x_col] if isinstance(x_col,str) else x_col\n",
    "        agg_all.columns = cols + ['count_y_all','sum_y_all']\n",
    "        \n",
    "        agg_each_fold = agg_each_fold.merge(agg_all,on=x_col,how='left')\n",
    "        agg_each_fold['count_y_all'] = agg_each_fold['count_y_all'] - agg_each_fold['count_y']\n",
    "        agg_each_fold['sum_y_all'] = agg_each_fold['sum_y_all'] - agg_each_fold['sum_y']\n",
    "        agg_each_fold[out_col] = (agg_each_fold['sum_y_all']+self.smooth*self.mean)/(agg_each_fold['count_y_all']+self.smooth)\n",
    "        agg_each_fold = agg_each_fold.drop(['count_y_all','count_y','sum_y_all','sum_y'],axis=1)\n",
    "        \n",
    "        agg_all[out_col] = (agg_all['sum_y_all']+self.smooth*self.mean)/(agg_all['count_y_all']+self.smooth)\n",
    "        agg_all = agg_all.drop(['count_y_all','sum_y_all'],axis=1)\n",
    "        self.agg_all = agg_all\n",
    "        \n",
    "        train.columns\n",
    "        cols = ['fold',x_col] if isinstance(x_col,str) else ['fold']+x_col\n",
    "        train = train.merge(agg_each_fold,on=cols,how='left')\n",
    "        del agg_each_fold\n",
    "        #self.agg_each_fold = agg_each_fold\n",
    "        if self.mode=='gpu':\n",
    "            if isinstance(train,dask_cudf.core.DataFrame):\n",
    "                train[out_col] = train.map_partitions(lambda cudf_df: cudf_df[out_col].nans_to_nulls())\n",
    "            else:\n",
    "                train[out_col] = train[out_col].nans_to_nulls()\n",
    "        train[out_col] = train[out_col].fillna(self.mean)\n",
    "        \n",
    "        if out_dtype is not None:\n",
    "            train[out_col] = train[out_col].astype(out_dtype)\n",
    "        return train\n",
    "    \n",
    "    def transform(self, test, x_col, out_col = None, out_dtype=None):\n",
    "        if out_col is None:\n",
    "            tag = x_col if isinstance(x_col,str) else '_'.join(x_col)\n",
    "            out_col = f'TE_{tag}_{self.y_col}'\n",
    "        test = test.merge(self.agg_all,on=x_col,how='left')\n",
    "        test[out_col] = test[out_col].fillna(self.mean)\n",
    "        if out_dtype is not None:\n",
    "            test[out_col] = test[out_col].astype(out_dtype)\n",
    "        return test"
   ]
  },
  {
   "cell_type": "code",
   "execution_count": 17,
   "metadata": {},
   "outputs": [],
   "source": [
    "# drop the previous TE columns\n",
    "train = train.drop(te_cols, axis=1)\n",
    "valid = valid.drop(te_cols, axis=1)"
   ]
  },
  {
   "cell_type": "code",
   "execution_count": 18,
   "metadata": {},
   "outputs": [
    {
     "name": "stdout",
     "output_type": "stream",
     "text": [
      "CPU times: user 117 ms, sys: 72.9 ms, total: 190 ms\n",
      "Wall time: 189 ms\n"
     ]
    },
    {
     "data": {
      "text/html": [
       "<div>\n",
       "<style scoped>\n",
       "    .dataframe tbody tr th:only-of-type {\n",
       "        vertical-align: middle;\n",
       "    }\n",
       "\n",
       "    .dataframe tbody tr th {\n",
       "        vertical-align: top;\n",
       "    }\n",
       "\n",
       "    .dataframe thead th {\n",
       "        text-align: right;\n",
       "    }\n",
       "</style>\n",
       "<table border=\"1\" class=\"dataframe\">\n",
       "  <thead>\n",
       "    <tr style=\"text-align: right;\">\n",
       "      <th></th>\n",
       "      <th>label</th>\n",
       "      <th>cat_0</th>\n",
       "      <th>cat_1</th>\n",
       "      <th>cat_2</th>\n",
       "      <th>fold</th>\n",
       "      <th>row_id</th>\n",
       "      <th>cat_0_TE</th>\n",
       "      <th>cat_1_TE</th>\n",
       "      <th>cat_2_TE</th>\n",
       "    </tr>\n",
       "  </thead>\n",
       "  <tbody>\n",
       "    <tr>\n",
       "      <th>0</th>\n",
       "      <td>0</td>\n",
       "      <td>370828</td>\n",
       "      <td>11313</td>\n",
       "      <td>7423</td>\n",
       "      <td>1</td>\n",
       "      <td>6912</td>\n",
       "      <td>0.008883</td>\n",
       "      <td>0.030515</td>\n",
       "      <td>0.038656</td>\n",
       "    </tr>\n",
       "    <tr>\n",
       "      <th>1</th>\n",
       "      <td>0</td>\n",
       "      <td>426089</td>\n",
       "      <td>10319</td>\n",
       "      <td>86</td>\n",
       "      <td>5</td>\n",
       "      <td>6913</td>\n",
       "      <td>0.006774</td>\n",
       "      <td>0.031737</td>\n",
       "      <td>0.026047</td>\n",
       "    </tr>\n",
       "    <tr>\n",
       "      <th>2</th>\n",
       "      <td>0</td>\n",
       "      <td>410417</td>\n",
       "      <td>13206</td>\n",
       "      <td>11827</td>\n",
       "      <td>8</td>\n",
       "      <td>6914</td>\n",
       "      <td>0.022669</td>\n",
       "      <td>0.019108</td>\n",
       "      <td>0.008202</td>\n",
       "    </tr>\n",
       "    <tr>\n",
       "      <th>3</th>\n",
       "      <td>0</td>\n",
       "      <td>189955</td>\n",
       "      <td>15451</td>\n",
       "      <td>6024</td>\n",
       "      <td>9</td>\n",
       "      <td>6915</td>\n",
       "      <td>0.018428</td>\n",
       "      <td>0.012774</td>\n",
       "      <td>0.022168</td>\n",
       "    </tr>\n",
       "    <tr>\n",
       "      <th>4</th>\n",
       "      <td>0</td>\n",
       "      <td>416995</td>\n",
       "      <td>15354</td>\n",
       "      <td>12390</td>\n",
       "      <td>9</td>\n",
       "      <td>6916</td>\n",
       "      <td>0.023713</td>\n",
       "      <td>0.111387</td>\n",
       "      <td>0.025572</td>\n",
       "    </tr>\n",
       "  </tbody>\n",
       "</table>\n",
       "</div>"
      ],
      "text/plain": [
       "   label   cat_0  cat_1  cat_2  fold  row_id  cat_0_TE  cat_1_TE  cat_2_TE\n",
       "0      0  370828  11313   7423     1    6912  0.008883  0.030515  0.038656\n",
       "1      0  426089  10319     86     5    6913  0.006774  0.031737  0.026047\n",
       "2      0  410417  13206  11827     8    6914  0.022669  0.019108  0.008202\n",
       "3      0  189955  15451   6024     9    6915  0.018428  0.012774  0.022168\n",
       "4      0  416995  15354  12390     9    6916  0.023713  0.111387  0.025572"
      ]
     },
     "execution_count": 18,
     "metadata": {},
     "output_type": "execute_result"
    }
   ],
   "source": [
    "%%time\n",
    "\n",
    "for col in cat_cols[:3]:\n",
    "    out_col = f'{col}_TE'\n",
    "    encoder = TargetEncoder(folds=FOLDS,smooth=20)\n",
    "    train = encoder.fit_transform(train, col, 'label', out_col=out_col, out_dtype='float32')\n",
    "    valid = encoder.transform(valid, col, out_col=out_col, out_dtype='float32')\n",
    "    del encoder\n",
    "train.head()"
   ]
  },
  {
   "cell_type": "markdown",
   "metadata": {},
   "source": [
    "Note that the optimized implementation is about 6x faster than the previous `for loop` based implementation."
   ]
  },
  {
   "cell_type": "code",
   "execution_count": 19,
   "metadata": {},
   "outputs": [
    {
     "name": "stdout",
     "output_type": "stream",
     "text": [
      "['cat_0_TE', 'cat_1_TE', 'cat_2_TE']\n",
      "Creating DMatrix...\n",
      "Took 0.0 seconds\n",
      "Training...\n",
      "[0]\ttrain-auc:0.61010\tvalid-auc:0.59717\n",
      "Multiple eval metrics have been passed: 'valid-auc' will be used for early stopping.\n",
      "\n",
      "Will train until valid-auc hasn't improved in 10 rounds.\n",
      "[10]\ttrain-auc:0.70187\tvalid-auc:0.69400\n",
      "[20]\ttrain-auc:0.69923\tvalid-auc:0.69010\n",
      "[30]\ttrain-auc:0.70503\tvalid-auc:0.69613\n",
      "[40]\ttrain-auc:0.70743\tvalid-auc:0.69945\n",
      "[50]\ttrain-auc:0.71170\tvalid-auc:0.70343\n",
      "[60]\ttrain-auc:0.71244\tvalid-auc:0.70412\n",
      "[70]\ttrain-auc:0.71339\tvalid-auc:0.70474\n",
      "[80]\ttrain-auc:0.71402\tvalid-auc:0.70530\n",
      "[90]\ttrain-auc:0.71439\tvalid-auc:0.70547\n",
      "[99]\ttrain-auc:0.71460\tvalid-auc:0.70560\n"
     ]
    }
   ],
   "source": [
    "te_cols = [col for col in train.columns if col.endswith('TE')]\n",
    "print(te_cols)\n",
    "\n",
    "NROUND = 100\n",
    "VERBOSE_EVAL = 10\n",
    "ESR = 10\n",
    "\n",
    "start = time.time(); print('Creating DMatrix...')\n",
    "dtrain = xgb.DMatrix(data=train[te_cols],label=train['label'])\n",
    "dvalid = xgb.DMatrix(data=valid[te_cols],label=valid['label'])\n",
    "print('Took %.1f seconds'%(time.time()-start))\n",
    "\n",
    "start = time.time(); print('Training...')\n",
    "model = xgb.train(xgb_parms, \n",
    "                       dtrain=dtrain,\n",
    "                       evals=[(dtrain,'train'),(dvalid,'valid')],\n",
    "                       num_boost_round=NROUND,\n",
    "                       early_stopping_rounds=ESR,\n",
    "                       verbose_eval=VERBOSE_EVAL) "
   ]
  },
  {
   "cell_type": "markdown",
   "metadata": {},
   "source": [
    "The optimized version is slightly more accurate and it could be up to 10x faster than the `kfold for loop` implementation."
   ]
  },
  {
   "cell_type": "code",
   "execution_count": 20,
   "metadata": {},
   "outputs": [
    {
     "data": {
      "text/plain": [
       "<matplotlib.legend.Legend at 0x7fd829145290>"
      ]
     },
     "execution_count": 20,
     "metadata": {},
     "output_type": "execute_result"
    },
    {
     "data": {
      "image/png": "[encoded data removed]",
      "text/plain": [
       "<Figure size 1080x288 with 1 Axes>"
      ]
     },
     "metadata": {
      "needs_background": "light"
     },
     "output_type": "display_data"
    }
   ],
   "source": [
    "labels = ['Label encoding', 'Target encoding naive', 'Target encoding kfold for loop', 'Target encoding optimized']\n",
    "train_auc = [0.61, 0.83, 0.7, 0.712]\n",
    "valid_auc = [0.60, 0.65, 0.7, 0.704]\n",
    "\n",
    "x = np.arange(len(labels))  # the label locations\n",
    "width = 0.35  # the width of the bars\n",
    "\n",
    "fig, ax = plt.subplots()\n",
    "fig.set_figwidth(15)\n",
    "rects1 = ax.bar(x - width/2, train_auc, width, label='train auc', color='m')\n",
    "rects2 = ax.bar(x + width/2, valid_auc, width, label='valid auc', color='c')\n",
    "\n",
    "ax.set_ylabel('Auc')\n",
    "ax.set_title('The overfitting problem is fixed by kfold target encoding')\n",
    "ax.set_xticks(x)\n",
    "ax.set_xticklabels(labels)\n",
    "ax.legend()"
   ]
  },
  {
   "cell_type": "markdown",
   "metadata": {},
   "source": [
    "<a id=\"multi\"></a>\n",
    "### Multi-column joint encoding\n",
    "Instead of encoding one column at a time, we can also encoding multiple columns jointly into one new feature."
   ]
  },
  {
   "cell_type": "code",
   "execution_count": 21,
   "metadata": {},
   "outputs": [
    {
     "name": "stdout",
     "output_type": "stream",
     "text": [
      "CPU times: user 241 ms, sys: 165 ms, total: 406 ms\n",
      "Wall time: 405 ms\n"
     ]
    }
   ],
   "source": [
    "%%time\n",
    "for cols in [['cat_0', 'cat_1'],\n",
    "             ['cat_0', 'cat_2'],\n",
    "             ['cat_1', 'cat_2'],\n",
    "             ['cat_0', 'cat_1', 'cat_2']\n",
    "            ]:\n",
    "    out_col = '_'.join(cols)+'_TE'\n",
    "    encoder = TargetEncoder(folds=FOLDS,smooth=20)\n",
    "    train = encoder.fit_transform(train, cols, 'label', out_col=out_col, out_dtype='float32')\n",
    "    valid = encoder.transform(valid, cols, out_col=out_col, out_dtype='float32')\n",
    "    del encoder"
   ]
  },
  {
   "cell_type": "code",
   "execution_count": 22,
   "metadata": {},
   "outputs": [
    {
     "name": "stdout",
     "output_type": "stream",
     "text": [
      "['cat_0_TE', 'cat_1_TE', 'cat_2_TE', 'cat_0_cat_1_TE', 'cat_0_cat_2_TE', 'cat_1_cat_2_TE', 'cat_0_cat_1_cat_2_TE']\n",
      "Creating DMatrix...\n",
      "Took 0.0 seconds\n",
      "Training...\n",
      "[0]\ttrain-auc:0.67973\tvalid-auc:0.67341\n",
      "Multiple eval metrics have been passed: 'valid-auc' will be used for early stopping.\n",
      "\n",
      "Will train until valid-auc hasn't improved in 10 rounds.\n",
      "[10]\ttrain-auc:0.70705\tvalid-auc:0.69596\n",
      "Stopping. Best iteration:\n",
      "[5]\ttrain-auc:0.71156\tvalid-auc:0.70120\n",
      "\n"
     ]
    }
   ],
   "source": [
    "te_cols = [col for col in train.columns if col.endswith('TE')]\n",
    "print(te_cols)\n",
    "\n",
    "NROUND = 100\n",
    "VERBOSE_EVAL = 10\n",
    "ESR = 10\n",
    "\n",
    "start = time.time(); print('Creating DMatrix...')\n",
    "dtrain = xgb.DMatrix(data=train[te_cols],label=train['label'])\n",
    "dvalid = xgb.DMatrix(data=valid[te_cols],label=valid['label'])\n",
    "print('Took %.1f seconds'%(time.time()-start))\n",
    "\n",
    "start = time.time(); print('Training...')\n",
    "model = xgb.train(xgb_parms, \n",
    "                       dtrain=dtrain,\n",
    "                       evals=[(dtrain,'train'),(dvalid,'valid')],\n",
    "                       num_boost_round=NROUND,\n",
    "                       early_stopping_rounds=ESR,\n",
    "                       verbose_eval=VERBOSE_EVAL) "
   ]
  },
  {
   "cell_type": "markdown",
   "metadata": {},
   "source": [
    "Although the validation AUC doesn't improve for this dataset, the functionality of multi-column joint encoding is necessary and might improve the prediction for other datasets."
   ]
  },
  {
   "cell_type": "markdown",
   "metadata": {},
   "source": [
    "## 3. Conclusion"
   ]
  },
  {
   "cell_type": "markdown",
   "metadata": {},
   "source": [
    "In this notebook, we explains the key design choices of target encoding. The takeaways are:\n",
    "- The ground truth column `target` is used as input for encoding.\n",
    "- The training data and test data are transformed differently.\n",
    "- Multi-column joint transformation is supported by target encoding."
   ]
  }
 ],
 "metadata": {
  "kernelspec": {
   "display_name": "Python 3",
   "language": "python",
   "name": "python3"
  },
  "language_info": {
   "codemirror_mode": {
    "name": "ipython",
    "version": 3
   },
   "file_extension": ".py",
   "mimetype": "text/x-python",
   "name": "python",
   "nbconvert_exporter": "python",
   "pygments_lexer": "ipython3",
   "version": "3.7.7"
  }
 },
 "nbformat": 4,
 "nbformat_minor": 4
}
