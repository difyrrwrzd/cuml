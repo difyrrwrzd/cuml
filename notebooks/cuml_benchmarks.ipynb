{
 "cells": [
  {
   "cell_type": "markdown",
   "metadata": {},
   "source": [
    "# Benchmark and Bounds Tests\n",
    "\n",
    "The purpose of this notebook is to benchmark all of the single GPU cuML algorithms against their skLearn counterparts, while also providing the ability to find and verify upper bounds.\n",
    "\n",
    "Each benchmark returns a Panda with the results, which can then be analyzed, manipulated, and stored to disk. "
   ]
  },
  {
   "cell_type": "markdown",
   "metadata": {},
   "source": [
    "## Notebook Credits\n",
    "**Authorship**\n",
    "Original Author: Corey Nolet <br />\n",
    "Last Edit: Taurean Dyer, 9/25/2019<br />\n",
    "\n",
    "Last Edit: Corey Nolet, 10/04/2019\n",
    "    \n",
    "### Test System Specs\n",
    "Test System Hardware: DGX-1 \n",
    "Test System Software: Ubuntu 16.04  \n",
    "RAPIDS Version: 0.10.0pre - Conda Install  \n",
    "Driver: 410.48\n",
    "CUDA: 10.0  \n",
    "\n",
    "### Known Working Systems\n",
    "RAPIDS Versions: 0.10+"
   ]
  },
  {
   "cell_type": "code",
   "execution_count": 1,
   "metadata": {},
   "outputs": [
    {
     "name": "stdout",
     "output_type": "stream",
     "text": [
      "0.14.0a+852.gc5770a0.dirty\n"
     ]
    }
   ],
   "source": [
    "import cuml\n",
    "import pandas as pd\n",
    "\n",
    "from cuml.benchmark.runners import SpeedupComparisonRunner\n",
    "from cuml.benchmark.algorithms import algorithm_by_name\n",
    "\n",
    "print(cuml.__version__)"
   ]
  },
  {
   "cell_type": "code",
   "execution_count": 2,
   "metadata": {},
   "outputs": [],
   "source": [
    "N_REPS = 3  # Number of times each test is repeated\n",
    "\n",
    "DATA_NEIGHBORHOODS = \"blobs\"\n",
    "DATA_CLASSIFICATION = \"classification\"\n",
    "DATA_REGRESSION = \"regression\"\n",
    "DATA_NLP = \"20newsgroups\"\n",
    "\n",
    "INPUT_TYPE = \"numpy\"\n",
    "\n",
    "benchmark_results = []\n",
    "\n",
    "def enrich_result(algorithm, runner, result):\n",
    "    result[\"algo\"] = algorithm\n",
    "    result[\"dataset_name\"] = runner.dataset_name\n",
    "    result[\"input_type\"] = runner.input_type\n",
    "    return result\n",
    "\n",
    "def execute_benchmark(algorithm, runner):\n",
    "    results = runner.run(algorithm_by_name(algorithm), verbose=True)\n",
    "    results = [enrich_result(algorithm, runner, result) for result in results]\n",
    "    benchmark_results.extend(results)"
   ]
  },
  {
   "cell_type": "markdown",
   "metadata": {},
   "source": [
    "## Neighbors"
   ]
  },
  {
   "cell_type": "code",
   "execution_count": 3,
   "metadata": {},
   "outputs": [
    {
     "name": "stderr",
     "output_type": "stream",
     "text": [
      "/share/software/miniconda3/envs/cuml_dev_014_2/lib/python3.7/site-packages/cuml-0.14.0a0+852.gc5770a0.dirty-py3.7-linux-x86_64.egg/cuml/utils/input_utils.py:188: UserWarning: Expected column ('F') major order, but got the opposite. Converting data, this will result in additional memory utilization.\n",
      "  warnings.warn(\"Expected \" + order_to_str(order) + \" major order, \"\n",
      "/share/software/miniconda3/envs/cuml_dev_014_2/lib/python3.7/site-packages/cuml-0.14.0a0+852.gc5770a0.dirty-py3.7-linux-x86_64.egg/cuml/utils/input_utils.py:188: UserWarning: Expected column ('F') major order, but got the opposite. Converting data, this will result in additional memory utilization.\n",
      "  warnings.warn(\"Expected \" + order_to_str(order) + \" major order, \"\n"
     ]
    },
    {
     "name": "stdout",
     "output_type": "stream",
     "text": [
      "NearestNeighbors Speedup (n_samples=2048, n_features=64) = 32.75841462295471\n"
     ]
    },
    {
     "name": "stderr",
     "output_type": "stream",
     "text": [
      "/share/software/miniconda3/envs/cuml_dev_014_2/lib/python3.7/site-packages/cuml-0.14.0a0+852.gc5770a0.dirty-py3.7-linux-x86_64.egg/cuml/utils/input_utils.py:188: UserWarning: Expected column ('F') major order, but got the opposite. Converting data, this will result in additional memory utilization.\n",
      "  warnings.warn(\"Expected \" + order_to_str(order) + \" major order, \"\n"
     ]
    },
    {
     "name": "stdout",
     "output_type": "stream",
     "text": [
      "NearestNeighbors Speedup (n_samples=2048, n_features=128) = 30.839235894022817\n"
     ]
    },
    {
     "name": "stderr",
     "output_type": "stream",
     "text": [
      "/share/software/miniconda3/envs/cuml_dev_014_2/lib/python3.7/site-packages/cuml-0.14.0a0+852.gc5770a0.dirty-py3.7-linux-x86_64.egg/cuml/utils/input_utils.py:188: UserWarning: Expected column ('F') major order, but got the opposite. Converting data, this will result in additional memory utilization.\n",
      "  warnings.warn(\"Expected \" + order_to_str(order) + \" major order, \"\n"
     ]
    },
    {
     "name": "stdout",
     "output_type": "stream",
     "text": [
      "NearestNeighbors Speedup (n_samples=2048, n_features=256) = 47.89857855479111\n"
     ]
    },
    {
     "name": "stderr",
     "output_type": "stream",
     "text": [
      "/share/software/miniconda3/envs/cuml_dev_014_2/lib/python3.7/site-packages/cuml-0.14.0a0+852.gc5770a0.dirty-py3.7-linux-x86_64.egg/cuml/utils/input_utils.py:188: UserWarning: Expected column ('F') major order, but got the opposite. Converting data, this will result in additional memory utilization.\n",
      "  warnings.warn(\"Expected \" + order_to_str(order) + \" major order, \"\n"
     ]
    },
    {
     "name": "stdout",
     "output_type": "stream",
     "text": [
      "NearestNeighbors Speedup (n_samples=4096, n_features=64) = 44.41926690783358\n"
     ]
    },
    {
     "name": "stderr",
     "output_type": "stream",
     "text": [
      "/share/software/miniconda3/envs/cuml_dev_014_2/lib/python3.7/site-packages/cuml-0.14.0a0+852.gc5770a0.dirty-py3.7-linux-x86_64.egg/cuml/utils/input_utils.py:188: UserWarning: Expected column ('F') major order, but got the opposite. Converting data, this will result in additional memory utilization.\n",
      "  warnings.warn(\"Expected \" + order_to_str(order) + \" major order, \"\n"
     ]
    },
    {
     "name": "stdout",
     "output_type": "stream",
     "text": [
      "NearestNeighbors Speedup (n_samples=4096, n_features=128) = 51.73817797945597\n"
     ]
    },
    {
     "name": "stderr",
     "output_type": "stream",
     "text": [
      "/share/software/miniconda3/envs/cuml_dev_014_2/lib/python3.7/site-packages/cuml-0.14.0a0+852.gc5770a0.dirty-py3.7-linux-x86_64.egg/cuml/utils/input_utils.py:188: UserWarning: Expected column ('F') major order, but got the opposite. Converting data, this will result in additional memory utilization.\n",
      "  warnings.warn(\"Expected \" + order_to_str(order) + \" major order, \"\n"
     ]
    },
    {
     "name": "stdout",
     "output_type": "stream",
     "text": [
      "NearestNeighbors Speedup (n_samples=4096, n_features=256) = 65.12360006771519\n"
     ]
    },
    {
     "name": "stderr",
     "output_type": "stream",
     "text": [
      "/share/software/miniconda3/envs/cuml_dev_014_2/lib/python3.7/site-packages/cuml-0.14.0a0+852.gc5770a0.dirty-py3.7-linux-x86_64.egg/cuml/utils/input_utils.py:188: UserWarning: Expected column ('F') major order, but got the opposite. Converting data, this will result in additional memory utilization.\n",
      "  warnings.warn(\"Expected \" + order_to_str(order) + \" major order, \"\n"
     ]
    },
    {
     "name": "stdout",
     "output_type": "stream",
     "text": [
      "NearestNeighbors Speedup (n_samples=8192, n_features=64) = 89.59011354629887\n"
     ]
    },
    {
     "name": "stderr",
     "output_type": "stream",
     "text": [
      "/share/software/miniconda3/envs/cuml_dev_014_2/lib/python3.7/site-packages/cuml-0.14.0a0+852.gc5770a0.dirty-py3.7-linux-x86_64.egg/cuml/utils/input_utils.py:188: UserWarning: Expected column ('F') major order, but got the opposite. Converting data, this will result in additional memory utilization.\n",
      "  warnings.warn(\"Expected \" + order_to_str(order) + \" major order, \"\n"
     ]
    },
    {
     "name": "stdout",
     "output_type": "stream",
     "text": [
      "NearestNeighbors Speedup (n_samples=8192, n_features=128) = 70.65879409226257\n"
     ]
    },
    {
     "name": "stderr",
     "output_type": "stream",
     "text": [
      "/share/software/miniconda3/envs/cuml_dev_014_2/lib/python3.7/site-packages/cuml-0.14.0a0+852.gc5770a0.dirty-py3.7-linux-x86_64.egg/cuml/utils/input_utils.py:188: UserWarning: Expected column ('F') major order, but got the opposite. Converting data, this will result in additional memory utilization.\n",
      "  warnings.warn(\"Expected \" + order_to_str(order) + \" major order, \"\n"
     ]
    },
    {
     "name": "stdout",
     "output_type": "stream",
     "text": [
      "NearestNeighbors Speedup (n_samples=8192, n_features=256) = 106.57735670533263\n"
     ]
    }
   ],
   "source": [
    "runner = cuml.benchmark.runners.SpeedupComparisonRunner(\n",
    "    bench_rows=[2**x for x in range(11, 14)], \n",
    "    bench_dims=[64, 128, 256],\n",
    "    dataset_name=DATA_NEIGHBORHOODS,\n",
    "    input_type=INPUT_TYPE,\n",
    "    n_reps=N_REPS\n",
    ")\n",
    "\n",
    "execute_benchmark(\"NearestNeighbors\", runner)"
   ]
  },
  {
   "cell_type": "markdown",
   "metadata": {},
   "source": [
    "### Nearest Neighbors"
   ]
  },
  {
   "cell_type": "markdown",
   "metadata": {},
   "source": [
    "### KNeighborsClassifier"
   ]
  },
  {
   "cell_type": "code",
   "execution_count": null,
   "metadata": {},
   "outputs": [],
   "source": [
    "runner = cuml.benchmark.runners.SpeedupComparisonRunner(\n",
    "    bench_rows=[2**x for x in range(11, 24)], \n",
    "    bench_dims=[64, 128, 256],\n",
    "    dataset_name=DATA_CLASSIFICATION,\n",
    "    input_type=INPUT_TYPE,\n",
    "    n_reps=N_REPS\n",
    ")\n",
    "\n",
    "execute_benchmark(\"KNeighborsClassifier\", runner)"
   ]
  },
  {
   "cell_type": "markdown",
   "metadata": {},
   "source": [
    "### KNeighborsRegressor"
   ]
  },
  {
   "cell_type": "code",
   "execution_count": null,
   "metadata": {},
   "outputs": [],
   "source": [
    "algorithm = \"KNeighborsRegressor\"\n",
    "runner = cuml.benchmark.runners.SpeedupComparisonRunner(\n",
    "    bench_rows=[2**x for x in range(11, 24)], \n",
    "    bench_dims=[64, 128, 256],\n",
    "    dataset_name=DATA_REGRESSION,\n",
    "    input_type=INPUT_TYPE,\n",
    "    n_reps=N_REPS\n",
    ")\n",
    "\n",
    "execute_benchmark(\"KNeighborsRegressor\", runner)"
   ]
  },
  {
   "cell_type": "markdown",
   "metadata": {},
   "source": [
    "## Clustering"
   ]
  },
  {
   "cell_type": "markdown",
   "metadata": {},
   "source": [
    "### DBSCAN"
   ]
  },
  {
   "cell_type": "code",
   "execution_count": 4,
   "metadata": {},
   "outputs": [
    {
     "name": "stdout",
     "output_type": "stream",
     "text": [
      "DBSCAN Speedup (n_samples=2048, n_features=64) = 9.859649122807017\n",
      "DBSCAN Speedup (n_samples=2048, n_features=128) = 15.388571428571428\n",
      "DBSCAN Speedup (n_samples=2048, n_features=256) = 14.849566605839415\n",
      "DBSCAN Speedup (n_samples=4096, n_features=64) = 43.70912593306044\n",
      "DBSCAN Speedup (n_samples=4096, n_features=128) = 40.322680412371135\n",
      "DBSCAN Speedup (n_samples=4096, n_features=256) = 35.29258524136953\n",
      "DBSCAN Speedup (n_samples=8192, n_features=64) = 131.02325521237518\n",
      "DBSCAN Speedup (n_samples=8192, n_features=128) = 109.08906273506845\n",
      "DBSCAN Speedup (n_samples=8192, n_features=256) = 81.18642402694611\n"
     ]
    }
   ],
   "source": [
    "algorithm = \"DBSCAN\"\n",
    "runner = cuml.benchmark.runners.SpeedupComparisonRunner(\n",
    "    bench_rows=[2**x for x in range(11, 14)], \n",
    "    bench_dims=[64, 128, 256],\n",
    "    dataset_name=DATA_NEIGHBORHOODS,\n",
    "    input_type=INPUT_TYPE,\n",
    "    n_reps=N_REPS\n",
    ")\n",
    "\n",
    "execute_benchmark(\"DBSCAN\", runner)"
   ]
  },
  {
   "cell_type": "markdown",
   "metadata": {},
   "source": [
    "### K-means Clustering"
   ]
  },
  {
   "cell_type": "code",
   "execution_count": null,
   "metadata": {},
   "outputs": [],
   "source": [
    "algorithm = \"KMeans\"\n",
    "runner = cuml.benchmark.runners.SpeedupComparisonRunner(\n",
    "    bench_rows=[2**x for x in range(12, 22)], \n",
    "    bench_dims=[64, 128, 256],\n",
    "    dataset_name=DATA_NEIGHBORHOODS,\n",
    "    input_type=INPUT_TYPE,\n",
    "    n_reps=N_REPS\n",
    ")\n",
    "\n",
    "execute_benchmark(\"KMeans\", runner)"
   ]
  },
  {
   "cell_type": "markdown",
   "metadata": {},
   "source": [
    "## Manifold Learning"
   ]
  },
  {
   "cell_type": "markdown",
   "metadata": {},
   "source": [
    "### UMAP"
   ]
  },
  {
   "cell_type": "code",
   "execution_count": null,
   "metadata": {},
   "outputs": [],
   "source": [
    "algorithm = \"UMAP\"\n",
    "runner = cuml.benchmark.runners.SpeedupComparisonRunner(\n",
    "    bench_rows=[2**x for x in range(11, 24)], \n",
    "    bench_dims=[100, 500, 1000, 10000],\n",
    "    dataset_name=DATA_NEIGHBORHOODS,\n",
    "    input_type=INPUT_TYPE,\n",
    "    n_reps=N_REPS\n",
    ")\n",
    "\n",
    "execute_benchmark(\"UMAP\", runner)"
   ]
  },
  {
   "cell_type": "markdown",
   "metadata": {},
   "source": [
    "### T-SNE"
   ]
  },
  {
   "cell_type": "code",
   "execution_count": null,
   "metadata": {},
   "outputs": [],
   "source": [
    "algorithm = \"TSNE\"\n",
    "runner = cuml.benchmark.runners.SpeedupComparisonRunner(\n",
    "    bench_rows=[2**x for x in range(11, 24)], \n",
    "    bench_dims=[100, 500, 1000, 10000],\n",
    "    dataset_name=DATA_NEIGHBORHOODS,\n",
    "    input_type=INPUT_TYPE,\n",
    "    n_reps=N_REPS\n",
    ")\n",
    "\n",
    "execute_benchmark(\"TSNE\", runner)"
   ]
  },
  {
   "cell_type": "markdown",
   "metadata": {},
   "source": [
    "## Linear Models"
   ]
  },
  {
   "cell_type": "markdown",
   "metadata": {},
   "source": [
    "### Linear Regression"
   ]
  },
  {
   "cell_type": "code",
   "execution_count": null,
   "metadata": {},
   "outputs": [],
   "source": [
    "algorithm = \"LinearRegression\"\n",
    "runner = cuml.benchmark.runners.SpeedupComparisonRunner(\n",
    "    bench_rows=[2**x for x in range(11, 24)], \n",
    "    bench_dims=[64, 128, 256],\n",
    "    dataset_name=DATA_REGRESSION,\n",
    "    input_type=INPUT_TYPE,\n",
    "    n_reps=N_REPS\n",
    ")\n",
    "\n",
    "execute_benchmark(\"LinearRegression\", runner)"
   ]
  },
  {
   "cell_type": "markdown",
   "metadata": {},
   "source": [
    "### Logistic Regression"
   ]
  },
  {
   "cell_type": "code",
   "execution_count": null,
   "metadata": {},
   "outputs": [],
   "source": [
    "results = \"LogisticRegression\"\n",
    "runner = cuml.benchmark.runners.SpeedupComparisonRunner(\n",
    "    bench_rows=[2**x for x in range(11, 24)], \n",
    "    bench_dims=[64, 128, 256],\n",
    "    dataset_name=DATA_CLASSIFICATION,\n",
    "    input_type=INPUT_TYPE,\n",
    "    n_reps=N_REPS\n",
    ")\n",
    "\n",
    "execute_benchmark(\"LogisticRegression\", runner)"
   ]
  },
  {
   "cell_type": "markdown",
   "metadata": {},
   "source": [
    "### Ridge Regression"
   ]
  },
  {
   "cell_type": "code",
   "execution_count": null,
   "metadata": {},
   "outputs": [],
   "source": [
    "algorithm = \"Ridge\"\n",
    "runner = cuml.benchmark.runners.SpeedupComparisonRunner(\n",
    "    bench_rows=[2**x for x in range(11, 24)], \n",
    "    bench_dims=[64, 128, 256],\n",
    "    dataset_name=DATA_REGRESSION,\n",
    "    input_type=INPUT_TYPE,\n",
    "    n_reps=N_REPS\n",
    ")\n",
    "\n",
    "execute_benchmark(\"Ridge\", runner)"
   ]
  },
  {
   "cell_type": "markdown",
   "metadata": {},
   "source": [
    "### Lasso Regression"
   ]
  },
  {
   "cell_type": "code",
   "execution_count": null,
   "metadata": {},
   "outputs": [],
   "source": [
    "algorithm = \"Lasso\"\n",
    "runner = cuml.benchmark.runners.SpeedupComparisonRunner(\n",
    "    bench_rows=[2**x for x in range(11, 24)], \n",
    "    bench_dims=[64, 128, 256],\n",
    "    dataset_name=DATA_REGRESSION,\n",
    "    input_type=INPUT_TYPE,\n",
    "    n_reps=N_REPS\n",
    ")\n",
    "\n",
    "execute_benchmark(\"Lasso\", runner)"
   ]
  },
  {
   "cell_type": "markdown",
   "metadata": {},
   "source": [
    "### ElasticNet Regression"
   ]
  },
  {
   "cell_type": "code",
   "execution_count": null,
   "metadata": {},
   "outputs": [],
   "source": [
    "algorithm = \"ElasticNet\"\n",
    "runner = cuml.benchmark.runners.SpeedupComparisonRunner(\n",
    "    bench_rows=[2**x for x in range(11, 24)], \n",
    "    bench_dims=[64, 128, 256],\n",
    "    dataset_name=DATA_REGRESSION,\n",
    "    input_type=INPUT_TYPE,\n",
    "    n_reps=N_REPS\n",
    ")\n",
    "\n",
    "execute_benchmark(\"ElasticNet\", runner)"
   ]
  },
  {
   "cell_type": "markdown",
   "metadata": {},
   "source": [
    "### Mini-batch SGD Classifier"
   ]
  },
  {
   "cell_type": "code",
   "execution_count": null,
   "metadata": {},
   "outputs": [],
   "source": [
    "algorithm = \"MBSGDClassifier\"\n",
    "runner = cuml.benchmark.runners.SpeedupComparisonRunner(\n",
    "    bench_rows=[2**x for x in range(11, 24)], \n",
    "    bench_dims=[64, 128, 256],\n",
    "    dataset_name=DATA_CLASSIFICATION,\n",
    "    input_type=INPUT_TYPE,\n",
    "    n_reps=N_REPS\n",
    ")\n",
    "\n",
    "execute_benchmark(\"MBSGDClassifier\", runner)"
   ]
  },
  {
   "cell_type": "markdown",
   "metadata": {},
   "source": [
    "## Decomposition"
   ]
  },
  {
   "cell_type": "markdown",
   "metadata": {},
   "source": [
    "### PCA"
   ]
  },
  {
   "cell_type": "code",
   "execution_count": null,
   "metadata": {},
   "outputs": [],
   "source": [
    "algorithm = \"PCA\"\n",
    "runner = cuml.benchmark.runners.SpeedupComparisonRunner(\n",
    "    bench_rows=[2**x for x in range(11, 24)], \n",
    "    bench_dims=[100, 500, 1000, 10000],\n",
    "    dataset_name=DATA_NEIGHBORHOODS,\n",
    "    input_type=INPUT_TYPE,\n",
    "    n_reps=N_REPS\n",
    ")\n",
    "\n",
    "execute_benchmark(\"PCA\", runner)"
   ]
  },
  {
   "cell_type": "markdown",
   "metadata": {},
   "source": [
    "### TSVD"
   ]
  },
  {
   "cell_type": "code",
   "execution_count": null,
   "metadata": {},
   "outputs": [],
   "source": [
    "algorithm = \"TSVD\"\n",
    "runner = cuml.benchmark.runners.SpeedupComparisonRunner(\n",
    "    bench_rows=[2**x for x in range(11, 24)], \n",
    "    bench_dims=[100, 500, 1000, 10000],\n",
    "    dataset_name=DATA_NEIGHBORHOODS,\n",
    "    input_type=INPUT_TYPE,\n",
    "    n_reps=N_REPS\n",
    ")\n",
    "\n",
    "execute_benchmark(\"TSVD\", runner)"
   ]
  },
  {
   "cell_type": "markdown",
   "metadata": {},
   "source": [
    "## Ensemble"
   ]
  },
  {
   "cell_type": "markdown",
   "metadata": {},
   "source": [
    "### Random Forest Classifier"
   ]
  },
  {
   "cell_type": "code",
   "execution_count": null,
   "metadata": {},
   "outputs": [],
   "source": [
    "algorithm = \"RandomForestClassifier\"\n",
    "runner = cuml.benchmark.runners.SpeedupComparisonRunner(\n",
    "    bench_rows=[2**x for x in range(11, 24)], \n",
    "    bench_dims=[64, 128, 256],\n",
    "    dataset_name=DATA_CLASSIFICATION,\n",
    "    input_type=INPUT_TYPE,\n",
    "    n_reps=N_REPS\n",
    ")\n",
    "\n",
    "execute_benchmark(\"RandomForestClassifier\", runner)"
   ]
  },
  {
   "cell_type": "markdown",
   "metadata": {},
   "source": [
    "### Random Forest Regressor"
   ]
  },
  {
   "cell_type": "code",
   "execution_count": null,
   "metadata": {},
   "outputs": [],
   "source": [
    "algorithm = \"RandomForestRegressor\"\n",
    "runner = cuml.benchmark.runners.SpeedupComparisonRunner(\n",
    "    bench_rows=[2**x for x in range(11, 24)], \n",
    "    bench_dims=[64, 128, 256],\n",
    "    dataset_name=DATA_REGRESSION,\n",
    "    input_type=INPUT_TYPE,\n",
    "    n_reps=N_REPS\n",
    ")\n",
    "\n",
    "execute_benchmark(\"RandomForestRegressor\", runner)"
   ]
  },
  {
   "cell_type": "markdown",
   "metadata": {},
   "source": [
    "### FIL"
   ]
  },
  {
   "cell_type": "code",
   "execution_count": null,
   "metadata": {},
   "outputs": [],
   "source": [
    "algorithm = \"FIL\"\n",
    "runner = cuml.benchmark.runners.SpeedupComparisonRunner(\n",
    "    bench_rows=[2**x for x in range(11, 24)], \n",
    "    bench_dims=[64, 128, 256],\n",
    "    dataset_name=DATA_CLASSIFICATION,\n",
    "    input_type=INPUT_TYPE,\n",
    "    n_reps=N_REPS\n",
    ")\n",
    "\n",
    "execute_benchmark(\"FIL\", runner)"
   ]
  },
  {
   "cell_type": "markdown",
   "metadata": {},
   "source": [
    "### Sparse FIL"
   ]
  },
  {
   "cell_type": "code",
   "execution_count": null,
   "metadata": {},
   "outputs": [],
   "source": [
    "algorithm = \"Sparse-FIL-SKL\"\n",
    "runner = cuml.benchmark.runners.SpeedupComparisonRunner(\n",
    "    bench_rows=[2**x for x in range(11, 24)], \n",
    "    bench_dims=[64, 128, 256],\n",
    "    dataset_name=DATA_CLASSIFICATION,\n",
    "    input_type=INPUT_TYPE,\n",
    "    n_reps=N_REPS\n",
    ")\n",
    "\n",
    "execute_benchmark(\"Sparse-FIL-SKL\", runner)"
   ]
  },
  {
   "cell_type": "markdown",
   "metadata": {},
   "source": [
    "## Random Projection"
   ]
  },
  {
   "cell_type": "markdown",
   "metadata": {},
   "source": [
    "### Gaussian Random Projection"
   ]
  },
  {
   "cell_type": "code",
   "execution_count": null,
   "metadata": {},
   "outputs": [],
   "source": [
    "runner = cuml.benchmark.runners.SpeedupComparisonRunner(\n",
    "    bench_rows=[2**x for x in range(17, 24)], \n",
    "    bench_dims=[64, 128, 256],\n",
    "    dataset_name=DATA_NEIGHBORHOODS,\n",
    "    input_type=INPUT_TYPE,\n",
    "    n_reps=N_REPS\n",
    ")\n",
    "\n",
    "execute_benchmark(\"GaussianRandomProjection\", runner)"
   ]
  },
  {
   "cell_type": "markdown",
   "metadata": {},
   "source": [
    "### Sparse Random Projection"
   ]
  },
  {
   "cell_type": "code",
   "execution_count": null,
   "metadata": {},
   "outputs": [],
   "source": [
    "runner = cuml.benchmark.runners.SpeedupComparisonRunner(\n",
    "    bench_rows=[2**x for x in range(17, 24)], \n",
    "    bench_dims=[64, 128, 256],\n",
    "    dataset_name=DATA_NEIGHBORHOODS,\n",
    "    input_type=INPUT_TYPE,\n",
    "    n_reps=N_REPS\n",
    ")\n",
    "\n",
    "execute_benchmark(\"SparseRandomProjection\", runner)"
   ]
  },
  {
   "cell_type": "markdown",
   "metadata": {},
   "source": [
    "## SVM"
   ]
  },
  {
   "cell_type": "markdown",
   "metadata": {},
   "source": [
    "### SVC"
   ]
  },
  {
   "cell_type": "code",
   "execution_count": null,
   "metadata": {},
   "outputs": [],
   "source": [
    "runner = cuml.benchmark.runners.SpeedupComparisonRunner(\n",
    "    bench_rows=[2**x for x in range(11, 12)], \n",
    "    bench_dims=[64, 128, 256],\n",
    "    dataset_name=DATA_CLASSIFICATION,\n",
    "    input_type=INPUT_TYPE,\n",
    "    n_reps=N_REPS\n",
    ")\n",
    "\n",
    "execute_benchmark(\"SVC\", runner)"
   ]
  },
  {
   "cell_type": "markdown",
   "metadata": {},
   "source": [
    "### SVR"
   ]
  },
  {
   "cell_type": "code",
   "execution_count": null,
   "metadata": {},
   "outputs": [],
   "source": [
    "runner = cuml.benchmark.runners.SpeedupComparisonRunner(\n",
    "    bench_rows=[2**x for x in range(11, 24)], \n",
    "    bench_dims=[64, 128, 256],\n",
    "    dataset_name=DATA_REGRESSION,\n",
    "    input_type=INPUT_TYPE,\n",
    "    n_reps=N_REPS\n",
    ")\n",
    "\n",
    "execute_benchmark(\"SVR\", runner)"
   ]
  },
  {
   "cell_type": "markdown",
   "metadata": {},
   "source": [
    "## Build Dataframe With Results"
   ]
  },
  {
   "cell_type": "code",
   "execution_count": 5,
   "metadata": {},
   "outputs": [],
   "source": [
    "%matplotlib inline"
   ]
  },
  {
   "cell_type": "code",
   "execution_count": 6,
   "metadata": {},
   "outputs": [],
   "source": [
    "df = pd.DataFrame(benchmark_results)"
   ]
  },
  {
   "cell_type": "code",
   "execution_count": 7,
   "metadata": {},
   "outputs": [],
   "source": [
    "def chart_single_algo_speedup(df, algorithm):\n",
    "    df = df.loc[df.algo == algorithm]\n",
    "    df = df.pivot(index=\"n_samples\", columns=\"n_features\", values=\"speedup\")\n",
    "    axes = df.plot.bar(title=\"%s Speedup\" % algorithm)"
   ]
  },
  {
   "cell_type": "code",
   "execution_count": 8,
   "metadata": {},
   "outputs": [],
   "source": [
    "def chart_all_algo_speedup(df):\n",
    "    df = df[[\"algo\", \"speedup\"]].groupby([\"algo\"]).mean()\n",
    "    df.plot.bar()"
   ]
  },
  {
   "cell_type": "code",
   "execution_count": 10,
   "metadata": {},
   "outputs": [
    {
     "data": {
      "image/png": "[encoded data removed]",
      "text/plain": [
       "<Figure size 432x288 with 1 Axes>"
      ]
     },
     "metadata": {
      "needs_background": "light"
     },
     "output_type": "display_data"
    }
   ],
   "source": [
    "chart_single_algo_speedup(df, \"NearestNeighbors\")"
   ]
  },
  {
   "cell_type": "code",
   "execution_count": 11,
   "metadata": {},
   "outputs": [
    {
     "data": {
      "image/png": "[encoded data removed]",
      "text/plain": [
       "<Figure size 432x288 with 1 Axes>"
      ]
     },
     "metadata": {
      "needs_background": "light"
     },
     "output_type": "display_data"
    }
   ],
   "source": [
    "chart_all_algo_speedup(df)"
   ]
  },
  {
   "cell_type": "code",
   "execution_count": 12,
   "metadata": {},
   "outputs": [],
   "source": [
    "df.to_csv(\"benchmark_results.csv\")"
   ]
  },
  {
   "cell_type": "code",
   "execution_count": null,
   "metadata": {},
   "outputs": [],
   "source": []
  }
 ],
 "metadata": {
  "kernelspec": {
   "display_name": "Python 3",
   "language": "python",
   "name": "python3"
  },
  "language_info": {
   "codemirror_mode": {
    "name": "ipython",
    "version": 3
   },
   "file_extension": ".py",
   "mimetype": "text/x-python",
   "name": "python",
   "nbconvert_exporter": "python",
   "pygments_lexer": "ipython3",
   "version": "3.7.6"
  }
 },
 "nbformat": 4,
 "nbformat_minor": 4
}
