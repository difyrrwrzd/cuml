{
 "cells": [
  {
   "cell_type": "markdown",
   "metadata": {},
   "source": [
    "# Benchmark and Bounds Tests\n",
    "\n",
    "The purpose of this notebook is to benchmark all of the single GPU cuML algorithms against their skLearn counterparts. This allows validation of correctness as well as the searching of upper bounds.\n",
    "\n",
    "Each benchmark returns a Panda with the results, which can then be analyzed, manipulated, and stored to disk. "
   ]
  },
  {
   "cell_type": "code",
   "execution_count": null,
   "metadata": {},
   "outputs": [],
   "source": [
    "import cuml\n",
    "import pandas as pd\n",
    "\n",
    "from cuml.benchmark.runners import SpeedupComparisonRunner\n",
    "from cuml.benchmark.algorithms import algorithm_by_name\n",
    "\n",
    "import warnings\n",
    "warnings.filterwarnings('ignore', 'Expected column ')\n",
    "\n",
    "print(cuml.__version__)"
   ]
  },
  {
   "cell_type": "code",
   "execution_count": null,
   "metadata": {},
   "outputs": [],
   "source": [
    "N_REPS = 3  # Number of times each test is repeated\n",
    "\n",
    "DATA_NEIGHBORHOODS = \"blobs\"\n",
    "DATA_CLASSIFICATION = \"classification\"\n",
    "DATA_REGRESSION = \"regression\"\n",
    "\n",
    "INPUT_TYPE = \"numpy\"\n",
    "\n",
    "benchmark_results = []"
   ]
  },
  {
   "cell_type": "code",
   "execution_count": null,
   "metadata": {},
   "outputs": [],
   "source": [
    "SMALL_ROW_SIZES = [2**x for x in range(14, 17)]\n",
    "LARGE_ROW_SIZES = [2**x for x in range(18, 24, 2)]\n",
    "\n",
    "SKINNY_FEATURES = [32, 256]\n",
    "WIDE_FEATURES = [100, 1000, 10000]"
   ]
  },
  {
   "cell_type": "code",
   "execution_count": null,
   "metadata": {},
   "outputs": [],
   "source": [
    "def enrich_result(algorithm, runner, result):\n",
    "    result[\"algo\"] = algorithm\n",
    "    result[\"dataset_name\"] = runner.dataset_name\n",
    "    result[\"input_type\"] = runner.input_type\n",
    "    return result\n",
    "\n",
    "def execute_benchmark(algorithm, runner):\n",
    "    results = runner.run(algorithm_by_name(algorithm), verbose=True)\n",
    "    results = [enrich_result(algorithm, runner, result) for result in results]\n",
    "    benchmark_results.extend(results)"
   ]
  },
  {
   "cell_type": "markdown",
   "metadata": {},
   "source": [
    "## Neighbors"
   ]
  },
  {
   "cell_type": "markdown",
   "metadata": {},
   "source": [
    "### Nearest Neighbors - Brute Force"
   ]
  },
  {
   "cell_type": "code",
   "execution_count": null,
   "metadata": {},
   "outputs": [],
   "source": [
    "runner = cuml.benchmark.runners.SpeedupComparisonRunner(\n",
    "    bench_rows=SMALL_ROW_SIZES, \n",
    "    bench_dims=SKINNY_FEATURES,\n",
    "    dataset_name=DATA_NEIGHBORHOODS,\n",
    "    input_type=INPUT_TYPE,\n",
    "    n_reps=N_REPS\n",
    ")\n",
    "\n",
    "execute_benchmark(\"NearestNeighbors\", runner)"
   ]
  },
  {
   "cell_type": "markdown",
   "metadata": {},
   "source": [
    "### KNeighborsClassifier"
   ]
  },
  {
   "cell_type": "code",
   "execution_count": null,
   "metadata": {},
   "outputs": [],
   "source": [
    "runner = cuml.benchmark.runners.SpeedupComparisonRunner(\n",
    "    bench_rows=SMALL_ROW_SIZES, \n",
    "    bench_dims=SKINNY_FEATURES,\n",
    "    dataset_name=DATA_CLASSIFICATION,\n",
    "    input_type=INPUT_TYPE,\n",
    "    n_reps=N_REPS\n",
    ")\n",
    "\n",
    "execute_benchmark(\"KNeighborsClassifier\", runner)"
   ]
  },
  {
   "cell_type": "markdown",
   "metadata": {},
   "source": [
    "### KNeighborsRegressor"
   ]
  },
  {
   "cell_type": "code",
   "execution_count": null,
   "metadata": {},
   "outputs": [],
   "source": [
    "algorithm = \"KNeighborsRegressor\"\n",
    "runner = cuml.benchmark.runners.SpeedupComparisonRunner(\n",
    "    bench_rows=SMALL_ROW_SIZES, \n",
    "    bench_dims=SKINNY_FEATURES,\n",
    "    dataset_name=DATA_REGRESSION,\n",
    "    input_type=INPUT_TYPE,\n",
    "    n_reps=N_REPS\n",
    ")\n",
    "\n",
    "execute_benchmark(\"KNeighborsRegressor\", runner)"
   ]
  },
  {
   "cell_type": "markdown",
   "metadata": {},
   "source": [
    "## Clustering"
   ]
  },
  {
   "cell_type": "markdown",
   "metadata": {},
   "source": [
    "### DBSCAN - Brute Force"
   ]
  },
  {
   "cell_type": "code",
   "execution_count": null,
   "metadata": {},
   "outputs": [],
   "source": [
    "algorithm = \"DBSCAN\"\n",
    "runner = cuml.benchmark.runners.SpeedupComparisonRunner(\n",
    "    bench_rows=SMALL_ROW_SIZES, \n",
    "    bench_dims=SKINNY_FEATURES,\n",
    "    dataset_name=DATA_NEIGHBORHOODS,\n",
    "    input_type=INPUT_TYPE,\n",
    "    n_reps=N_REPS\n",
    ")\n",
    "\n",
    "execute_benchmark(\"DBSCAN\", runner)"
   ]
  },
  {
   "cell_type": "markdown",
   "metadata": {},
   "source": [
    "### K-means Clustering"
   ]
  },
  {
   "cell_type": "code",
   "execution_count": null,
   "metadata": {},
   "outputs": [],
   "source": [
    "runner = cuml.benchmark.runners.SpeedupComparisonRunner(\n",
    "    bench_rows=SMALL_ROW_SIZES, \n",
    "    bench_dims=SKINNY_FEATURES,\n",
    "    dataset_name=DATA_NEIGHBORHOODS,\n",
    "    input_type=INPUT_TYPE,\n",
    "    n_reps=N_REPS\n",
    ")\n",
    "\n",
    "execute_benchmark(\"KMeans\", runner)"
   ]
  },
  {
   "cell_type": "markdown",
   "metadata": {},
   "source": [
    "## Manifold Learning"
   ]
  },
  {
   "cell_type": "markdown",
   "metadata": {},
   "source": [
    "### UMAP - Unsupervised"
   ]
  },
  {
   "cell_type": "code",
   "execution_count": null,
   "metadata": {},
   "outputs": [],
   "source": [
    "runner = cuml.benchmark.runners.SpeedupComparisonRunner(\n",
    "    bench_rows=SMALL_ROW_SIZES, \n",
    "    bench_dims=WIDE_FEATURES,\n",
    "    dataset_name=DATA_NEIGHBORHOODS,\n",
    "    input_type=INPUT_TYPE,\n",
    "    n_reps=N_REPS\n",
    ")\n",
    "\n",
    "execute_benchmark(\"UMAP-Unsupervised\", runner)"
   ]
  },
  {
   "cell_type": "markdown",
   "metadata": {},
   "source": [
    "### UMAP - Supervised"
   ]
  },
  {
   "cell_type": "code",
   "execution_count": null,
   "metadata": {},
   "outputs": [],
   "source": [
    "runner = cuml.benchmark.runners.SpeedupComparisonRunner(\n",
    "    bench_rows=SMALL_ROW_SIZES, \n",
    "    bench_dims=WIDE_FEATURES,\n",
    "    dataset_name=DATA_NEIGHBORHOODS,\n",
    "    input_type=INPUT_TYPE,\n",
    "    n_reps=N_REPS\n",
    ")\n",
    "\n",
    "execute_benchmark(\"UMAP-Supervised\", runner)"
   ]
  },
  {
   "cell_type": "markdown",
   "metadata": {},
   "source": [
    "### T-SNE"
   ]
  },
  {
   "cell_type": "code",
   "execution_count": null,
   "metadata": {},
   "outputs": [],
   "source": [
    "runner = cuml.benchmark.runners.SpeedupComparisonRunner(\n",
    "    bench_rows=SMALL_ROW_SIZES, \n",
    "    bench_dims=WIDE_FEATURES,\n",
    "    dataset_name=DATA_NEIGHBORHOODS,\n",
    "    input_type=INPUT_TYPE,\n",
    "    n_reps=N_REPS\n",
    ")\n",
    "\n",
    "execute_benchmark(\"TSNE\", runner)"
   ]
  },
  {
   "cell_type": "markdown",
   "metadata": {},
   "source": [
    "## Linear Models"
   ]
  },
  {
   "cell_type": "markdown",
   "metadata": {},
   "source": [
    "### Linear Regression"
   ]
  },
  {
   "cell_type": "code",
   "execution_count": null,
   "metadata": {},
   "outputs": [],
   "source": [
    "algorithm = \"LinearRegression\"\n",
    "runner = cuml.benchmark.runners.SpeedupComparisonRunner(\n",
    "    bench_rows=SMALL_ROW_SIZES, \n",
    "    bench_dims=SKINNY_FEATURES,\n",
    "    dataset_name=DATA_REGRESSION,\n",
    "    input_type=INPUT_TYPE,\n",
    "    n_reps=N_REPS\n",
    ")\n",
    "\n",
    "execute_benchmark(\"LinearRegression\", runner)"
   ]
  },
  {
   "cell_type": "markdown",
   "metadata": {},
   "source": [
    "### Logistic Regression"
   ]
  },
  {
   "cell_type": "code",
   "execution_count": null,
   "metadata": {},
   "outputs": [],
   "source": [
    "results = \"LogisticRegression\"\n",
    "runner = cuml.benchmark.runners.SpeedupComparisonRunner(\n",
    "    bench_rows=SMALL_ROW_SIZES, \n",
    "    bench_dims=SKINNY_FEATURES,\n",
    "    dataset_name=DATA_CLASSIFICATION,\n",
    "    input_type=INPUT_TYPE,\n",
    "    n_reps=N_REPS\n",
    ")\n",
    "\n",
    "execute_benchmark(\"LogisticRegression\", runner)"
   ]
  },
  {
   "cell_type": "markdown",
   "metadata": {},
   "source": [
    "### Ridge Regression"
   ]
  },
  {
   "cell_type": "code",
   "execution_count": null,
   "metadata": {},
   "outputs": [],
   "source": [
    "algorithm = \"Ridge\"\n",
    "runner = cuml.benchmark.runners.SpeedupComparisonRunner(\n",
    "    bench_rows=SMALL_ROW_SIZES, \n",
    "    bench_dims=SKINNY_FEATURES,\n",
    "    dataset_name=DATA_REGRESSION,\n",
    "    input_type=INPUT_TYPE,\n",
    "    n_reps=N_REPS\n",
    ")\n",
    "\n",
    "execute_benchmark(\"Ridge\", runner)"
   ]
  },
  {
   "cell_type": "markdown",
   "metadata": {},
   "source": [
    "### Lasso Regression"
   ]
  },
  {
   "cell_type": "code",
   "execution_count": null,
   "metadata": {},
   "outputs": [],
   "source": [
    "algorithm = \"Lasso\"\n",
    "runner = cuml.benchmark.runners.SpeedupComparisonRunner(\n",
    "    bench_rows=SMALL_ROW_SIZES, \n",
    "    bench_dims=SKINNY_FEATURES,\n",
    "    dataset_name=DATA_REGRESSION,\n",
    "    input_type=INPUT_TYPE,\n",
    "    n_reps=N_REPS\n",
    ")\n",
    "\n",
    "execute_benchmark(\"Lasso\", runner)"
   ]
  },
  {
   "cell_type": "markdown",
   "metadata": {},
   "source": [
    "### ElasticNet Regression"
   ]
  },
  {
   "cell_type": "code",
   "execution_count": null,
   "metadata": {},
   "outputs": [],
   "source": [
    "algorithm = \"ElasticNet\"\n",
    "runner = cuml.benchmark.runners.SpeedupComparisonRunner(\n",
    "    bench_rows=SMALL_ROW_SIZES, \n",
    "    bench_dims=SKINNY_FEATURES,\n",
    "    dataset_name=DATA_REGRESSION,\n",
    "    input_type=INPUT_TYPE,\n",
    "    n_reps=N_REPS\n",
    ")\n",
    "\n",
    "execute_benchmark(\"ElasticNet\", runner)"
   ]
  },
  {
   "cell_type": "markdown",
   "metadata": {},
   "source": [
    "### Mini-batch SGD Classifier"
   ]
  },
  {
   "cell_type": "code",
   "execution_count": null,
   "metadata": {},
   "outputs": [],
   "source": [
    "algorithm = \"MBSGDClassifier\"\n",
    "runner = cuml.benchmark.runners.SpeedupComparisonRunner(\n",
    "    bench_rows=SMALL_ROW_SIZES, \n",
    "    bench_dims=SKINNY_FEATURES,\n",
    "    dataset_name=DATA_CLASSIFICATION,\n",
    "    input_type=INPUT_TYPE,\n",
    "    n_reps=N_REPS\n",
    ")\n",
    "\n",
    "execute_benchmark(\"MBSGDClassifier\", runner)"
   ]
  },
  {
   "cell_type": "markdown",
   "metadata": {},
   "source": [
    "## Decomposition"
   ]
  },
  {
   "cell_type": "markdown",
   "metadata": {},
   "source": [
    "### PCA"
   ]
  },
  {
   "cell_type": "code",
   "execution_count": null,
   "metadata": {},
   "outputs": [],
   "source": [
    "algorithm = \"PCA\"\n",
    "runner = cuml.benchmark.runners.SpeedupComparisonRunner(\n",
    "    bench_rows=SMALL_ROW_SIZES, \n",
    "    bench_dims=WIDE_FEATURES,\n",
    "    dataset_name=DATA_NEIGHBORHOODS,\n",
    "    input_type=INPUT_TYPE,\n",
    "    n_reps=N_REPS\n",
    ")\n",
    "\n",
    "execute_benchmark(\"PCA\", runner)"
   ]
  },
  {
   "cell_type": "markdown",
   "metadata": {},
   "source": [
    "### TSVD"
   ]
  },
  {
   "cell_type": "code",
   "execution_count": null,
   "metadata": {},
   "outputs": [],
   "source": [
    "algorithm = \"TSVD\"\n",
    "runner = cuml.benchmark.runners.SpeedupComparisonRunner(\n",
    "    bench_rows=SMALL_ROW_SIZES, \n",
    "    bench_dims=WIDE_FEATURES,\n",
    "    dataset_name=DATA_NEIGHBORHOODS,\n",
    "    input_type=INPUT_TYPE,\n",
    "    n_reps=N_REPS\n",
    ")\n",
    "\n",
    "execute_benchmark(\"TSVD\", runner)"
   ]
  },
  {
   "cell_type": "markdown",
   "metadata": {},
   "source": [
    "## Ensemble"
   ]
  },
  {
   "cell_type": "markdown",
   "metadata": {},
   "source": [
    "### Random Forest Classifier"
   ]
  },
  {
   "cell_type": "code",
   "execution_count": null,
   "metadata": {},
   "outputs": [],
   "source": [
    "algorithm = \"RandomForestClassifier\"\n",
    "runner = cuml.benchmark.runners.SpeedupComparisonRunner(\n",
    "    bench_rows=SMALL_ROW_SIZES, \n",
    "    bench_dims=SKINNY_FEATURES,\n",
    "    dataset_name=DATA_CLASSIFICATION,\n",
    "    input_type=INPUT_TYPE,\n",
    "    n_reps=N_REPS\n",
    ")\n",
    "\n",
    "execute_benchmark(\"RandomForestClassifier\", runner)"
   ]
  },
  {
   "cell_type": "markdown",
   "metadata": {},
   "source": [
    "### Random Forest Regressor"
   ]
  },
  {
   "cell_type": "code",
   "execution_count": null,
   "metadata": {},
   "outputs": [],
   "source": [
    "algorithm = \"RandomForestRegressor\"\n",
    "runner = cuml.benchmark.runners.SpeedupComparisonRunner(\n",
    "    bench_rows=SMALL_ROW_SIZES, \n",
    "    bench_dims=SKINNY_FEATURES,\n",
    "    dataset_name=DATA_REGRESSION,\n",
    "    input_type=INPUT_TYPE,\n",
    "    n_reps=N_REPS\n",
    ")\n",
    "\n",
    "execute_benchmark(\"RandomForestRegressor\", runner)"
   ]
  },
  {
   "cell_type": "markdown",
   "metadata": {},
   "source": [
    "### FIL"
   ]
  },
  {
   "cell_type": "code",
   "execution_count": null,
   "metadata": {},
   "outputs": [],
   "source": [
    "algorithm = \"FIL\"\n",
    "runner = cuml.benchmark.runners.SpeedupComparisonRunner(\n",
    "    bench_rows=SMALL_ROW_SIZES, \n",
    "    bench_dims=SKINNY_FEATURES,\n",
    "    dataset_name=DATA_CLASSIFICATION,\n",
    "    input_type=INPUT_TYPE,\n",
    "    n_reps=N_REPS\n",
    ")\n",
    "\n",
    "execute_benchmark(\"FIL\", runner)"
   ]
  },
  {
   "cell_type": "markdown",
   "metadata": {},
   "source": [
    "### Sparse FIL"
   ]
  },
  {
   "cell_type": "code",
   "execution_count": null,
   "metadata": {},
   "outputs": [],
   "source": [
    "algorithm = \"Sparse-FIL-SKL\"\n",
    "runner = cuml.benchmark.runners.SpeedupComparisonRunner(\n",
    "    bench_rows=SMALL_ROW_SIZES,\n",
    "    bench_dims=SKINNY_FEATURES,\n",
    "    dataset_name=DATA_CLASSIFICATION,\n",
    "    input_type=INPUT_TYPE,\n",
    "    n_reps=N_REPS\n",
    ")\n",
    "\n",
    "execute_benchmark(\"Sparse-FIL-SKL\", runner)"
   ]
  },
  {
   "cell_type": "markdown",
   "metadata": {},
   "source": [
    "## Random Projection"
   ]
  },
  {
   "cell_type": "markdown",
   "metadata": {},
   "source": [
    "### Gaussian Random Projection"
   ]
  },
  {
   "cell_type": "code",
   "execution_count": null,
   "metadata": {},
   "outputs": [],
   "source": [
    "runner = cuml.benchmark.runners.SpeedupComparisonRunner(\n",
    "    bench_rows=SMALL_ROW_SIZES,\n",
    "    bench_dims=WIDE_FEATURES,\n",
    "    dataset_name=DATA_NEIGHBORHOODS,\n",
    "    input_type=INPUT_TYPE,\n",
    "    n_reps=N_REPS\n",
    ")\n",
    "\n",
    "execute_benchmark(\"GaussianRandomProjection\", runner)"
   ]
  },
  {
   "cell_type": "markdown",
   "metadata": {},
   "source": [
    "### Sparse Random Projection"
   ]
  },
  {
   "cell_type": "code",
   "execution_count": null,
   "metadata": {},
   "outputs": [],
   "source": [
    "runner = cuml.benchmark.runners.SpeedupComparisonRunner(\n",
    "    bench_rows=SMALL_ROW_SIZES,\n",
    "    bench_dims=WIDE_FEATURES,\n",
    "    dataset_name=DATA_NEIGHBORHOODS,\n",
    "    input_type=INPUT_TYPE,\n",
    "    n_reps=N_REPS\n",
    ")\n",
    "\n",
    "execute_benchmark(\"SparseRandomProjection\", runner)"
   ]
  },
  {
   "cell_type": "markdown",
   "metadata": {},
   "source": [
    "## SVM"
   ]
  },
  {
   "cell_type": "markdown",
   "metadata": {},
   "source": [
    "### SVC - Linear Kernel"
   ]
  },
  {
   "cell_type": "code",
   "execution_count": null,
   "metadata": {},
   "outputs": [],
   "source": [
    "runner = cuml.benchmark.runners.SpeedupComparisonRunner(\n",
    "    bench_rows=SMALL_ROW_SIZES, \n",
    "    bench_dims=SKINNY_FEATURES,\n",
    "    dataset_name=DATA_CLASSIFICATION,\n",
    "    input_type=INPUT_TYPE,\n",
    "    n_reps=N_REPS\n",
    ")\n",
    "\n",
    "execute_benchmark(\"SVC-Linear\", runner)"
   ]
  },
  {
   "cell_type": "markdown",
   "metadata": {},
   "source": [
    "### SVC - RBF Kernel"
   ]
  },
  {
   "cell_type": "code",
   "execution_count": null,
   "metadata": {},
   "outputs": [],
   "source": [
    "runner = cuml.benchmark.runners.SpeedupComparisonRunner(\n",
    "    bench_rows=SMALL_ROW_SIZES, \n",
    "    bench_dims=SKINNY_FEATURES,\n",
    "    dataset_name=DATA_CLASSIFICATION,\n",
    "    input_type=INPUT_TYPE,\n",
    "    n_reps=N_REPS\n",
    ")\n",
    "\n",
    "execute_benchmark(\"SVC-RBF\", runner)"
   ]
  },
  {
   "cell_type": "markdown",
   "metadata": {},
   "source": [
    "### SVR - Linear Kernel"
   ]
  },
  {
   "cell_type": "code",
   "execution_count": null,
   "metadata": {},
   "outputs": [],
   "source": [
    "runner = cuml.benchmark.runners.SpeedupComparisonRunner(\n",
    "    bench_rows=SMALL_ROW_SIZES, \n",
    "    bench_dims=SKINNY_FEATURES,\n",
    "    dataset_name=DATA_REGRESSION,\n",
    "    input_type=INPUT_TYPE,\n",
    "    n_reps=N_REPS\n",
    ")\n",
    "\n",
    "execute_benchmark(\"SVR-Linear\", runner)"
   ]
  },
  {
   "cell_type": "markdown",
   "metadata": {},
   "source": [
    "### SVR - RBF Kernel"
   ]
  },
  {
   "cell_type": "code",
   "execution_count": null,
   "metadata": {},
   "outputs": [],
   "source": [
    "runner = cuml.benchmark.runners.SpeedupComparisonRunner(\n",
    "    bench_rows=SMALL_ROW_SIZES, \n",
    "    bench_dims=SKINNY_FEATURES,\n",
    "    dataset_name=DATA_REGRESSION,\n",
    "    input_type=INPUT_TYPE,\n",
    "    n_reps=N_REPS\n",
    ")\n",
    "\n",
    "execute_benchmark(\"SVR-RBF\", runner)"
   ]
  },
  {
   "cell_type": "markdown",
   "metadata": {},
   "source": [
    "## Build Dataframe With Results"
   ]
  },
  {
   "cell_type": "code",
   "execution_count": null,
   "metadata": {},
   "outputs": [],
   "source": [
    "%matplotlib inline"
   ]
  },
  {
   "cell_type": "code",
   "execution_count": null,
   "metadata": {},
   "outputs": [],
   "source": [
    "df = pd.DataFrame(benchmark_results)"
   ]
  },
  {
   "cell_type": "code",
   "execution_count": null,
   "metadata": {},
   "outputs": [],
   "source": [
    "def chart_single_algo_speedup(df, algorithm):\n",
    "    df = df.loc[df.algo == algorithm]\n",
    "    df = df.pivot(index=\"n_samples\", columns=\"n_features\", values=\"speedup\")\n",
    "    axes = df.plot.bar(title=\"%s Speedup\" % algorithm)"
   ]
  },
  {
   "cell_type": "code",
   "execution_count": null,
   "metadata": {},
   "outputs": [],
   "source": [
    "def chart_all_algo_speedup(df):\n",
    "    df = df[[\"algo\", \"n_samples\", \"speedup\"]].groupby([\"algo\", \"n_samples\"]).mean()\n",
    "    df.plot.bar()"
   ]
  },
  {
   "cell_type": "code",
   "execution_count": null,
   "metadata": {},
   "outputs": [],
   "source": [
    "chart_single_algo_speedup(df, \"LinearRegression\")"
   ]
  },
  {
   "cell_type": "code",
   "execution_count": null,
   "metadata": {},
   "outputs": [],
   "source": [
    "chart_all_algo_speedup(df)"
   ]
  },
  {
   "cell_type": "code",
   "execution_count": null,
   "metadata": {},
   "outputs": [],
   "source": [
    "df.to_csv(\"benchmark_results.csv\")"
   ]
  }
 ],
 "metadata": {
  "kernelspec": {
   "display_name": "Python (cuml_dev_014_2)",
   "language": "python",
   "name": "python3"
  },
  "language_info": {
   "codemirror_mode": {
    "name": "ipython",
    "version": 3
   },
   "file_extension": ".py",
   "mimetype": "text/x-python",
   "name": "python",
   "nbconvert_exporter": "python",
   "pygments_lexer": "ipython3",
   "version": "3.7.6"
  }
 },
 "nbformat": 4,
 "nbformat_minor": 4
}
