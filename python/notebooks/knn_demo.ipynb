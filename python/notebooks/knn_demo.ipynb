{
 "cells": [
  {
   "cell_type": "code",
   "execution_count": 1,
   "metadata": {},
   "outputs": [],
   "source": [
    "import numpy as np\n",
    "import pandas as pd\n",
    "from sklearn.neighbors import KDTree as skKNN\n",
    "from cuml import KNN as cumlKNN\n",
    "import cudf\n",
    "import os\n",
    "\n",
    "import numba.cuda"
   ]
  },
  {
   "cell_type": "markdown",
   "metadata": {},
   "source": [
    "# Helper Functions"
   ]
  },
  {
   "cell_type": "code",
   "execution_count": 2,
   "metadata": {},
   "outputs": [],
   "source": [
    "from timeit import default_timer\n",
    "\n",
    "class Timer(object):\n",
    "    def __init__(self):\n",
    "        self._timer = default_timer\n",
    "    \n",
    "    def __enter__(self):\n",
    "        self.start()\n",
    "        return self\n",
    "\n",
    "    def __exit__(self, *args):\n",
    "        self.stop()\n",
    "\n",
    "    def start(self):\n",
    "        \"\"\"Start the timer.\"\"\"\n",
    "        self.start = self._timer()\n",
    "\n",
    "    def stop(self):\n",
    "        \"\"\"Stop the timer. Calculate the interval in seconds.\"\"\"\n",
    "        self.end = self._timer()\n",
    "        self.interval = self.end - self.start"
   ]
  },
  {
   "cell_type": "code",
   "execution_count": 3,
   "metadata": {},
   "outputs": [],
   "source": [
    "import gzip\n",
    "def load_data(nrows, ncols, cached = 'data/mortgage.npy.gz',source='mortgage'):\n",
    "#     if os.path.exists(cached) and source=='mortgage':\n",
    "#         print('use mortgage data')\n",
    "#         with gzip.open(cached) as f:\n",
    "#             X = np.load(f)\n",
    "#         X = X[np.random.randint(0,X.shape[0]-1,nrows),:ncols]\n",
    "#     else:\n",
    "    print('use random data')\n",
    "    X = np.random.random((nrows,ncols)).astype('float32')\n",
    "    df = pd.DataFrame({'fea%d'%i:X[:,i] for i in range(X.shape[1])}).fillna(0)\n",
    "    return df"
   ]
  },
  {
   "cell_type": "code",
   "execution_count": 4,
   "metadata": {},
   "outputs": [],
   "source": [
    "from sklearn.metrics import mean_squared_error\n",
    "def array_equal(a,b,threshold=1e-2,with_sign=True,metric='mse'):\n",
    "    a = to_nparray(a)\n",
    "    b = to_nparray(b)\n",
    "    \n",
    "    print(a)\n",
    "    print(b)\n",
    "    \n",
    "    if with_sign == False:\n",
    "        a,b = np.abs(a),np.abs(b)\n",
    "    if metric=='mse':\n",
    "        error = mean_squared_error(a,b)\n",
    "    else:\n",
    "        error = np.sum(a!=b)/(a.shape[0]*a.shape[1])\n",
    "    res = error<threshold\n",
    "    return res\n",
    "\n",
    "def to_nparray(x):\n",
    "    if isinstance(x,np.ndarray) or isinstance(x,pd.DataFrame):\n",
    "        return np.array(x)\n",
    "    elif isinstance(x,np.float64):\n",
    "        return np.array([x])\n",
    "    elif isinstance(x,cudf.DataFrame) or isinstance(x,cudf.Series):\n",
    "        return x.to_pandas().values\n",
    "    elif isinstance(x, numba.cuda.cudadrv.devicearray.DeviceNDArray):\n",
    "        return np.asarray(x)\n",
    "    return x    "
   ]
  },
  {
   "cell_type": "markdown",
   "metadata": {},
   "source": [
    "# Run tests"
   ]
  },
  {
   "cell_type": "code",
   "execution_count": 5,
   "metadata": {},
   "outputs": [
    {
     "name": "stdout",
     "output_type": "stream",
     "text": [
      "use random data\n",
      "data (15, 2)\n",
      "CPU times: user 1.44 ms, sys: 937 µs, total: 2.38 ms\n",
      "Wall time: 2 ms\n"
     ]
    }
   ],
   "source": [
    "%%time\n",
    "nrows = 15\n",
    "ncols = 2\n",
    "\n",
    "X = load_data(nrows,ncols)\n",
    "print('data',X.shape)"
   ]
  },
  {
   "cell_type": "code",
   "execution_count": 6,
   "metadata": {},
   "outputs": [
    {
     "name": "stdout",
     "output_type": "stream",
     "text": [
      "<class 'pandas.core.frame.DataFrame'>\n",
      "RangeIndex: 15 entries, 0 to 14\n",
      "Data columns (total 2 columns):\n",
      "fea0    15 non-null float32\n",
      "fea1    15 non-null float32\n",
      "dtypes: float32(2)\n",
      "memory usage: 200.0 bytes\n"
     ]
    }
   ],
   "source": [
    "X.info()"
   ]
  },
  {
   "cell_type": "code",
   "execution_count": 7,
   "metadata": {},
   "outputs": [],
   "source": [
    "n_neighbors = 10"
   ]
  },
  {
   "cell_type": "code",
   "execution_count": null,
   "metadata": {},
   "outputs": [],
   "source": []
  },
  {
   "cell_type": "code",
   "execution_count": 8,
   "metadata": {},
   "outputs": [
    {
     "name": "stdout",
     "output_type": "stream",
     "text": [
      "        fea0      fea1\n",
      "0   0.940755  0.856856\n",
      "1   0.476706  0.925938\n",
      "2   0.735778  0.430330\n",
      "3   0.812152  0.424700\n",
      "4   0.684502  0.772031\n",
      "5   0.926316  0.158021\n",
      "6   0.017679  0.070085\n",
      "7   0.351044  0.618492\n",
      "8   0.219023  0.435588\n",
      "9   0.586819  0.099291\n",
      "10  0.137871  0.741323\n",
      "11  0.440433  0.432177\n",
      "12  0.608372  0.285098\n",
      "13  0.637000  0.733376\n",
      "14  0.146847  0.989862\n"
     ]
    }
   ],
   "source": [
    "print(str(X))"
   ]
  },
  {
   "cell_type": "code",
   "execution_count": 9,
   "metadata": {},
   "outputs": [
    {
     "name": "stdout",
     "output_type": "stream",
     "text": [
      "CPU times: user 1.05 ms, sys: 5 µs, total: 1.05 ms\n",
      "Wall time: 1.02 ms\n"
     ]
    }
   ],
   "source": [
    "%%time\n",
    "knn_sk = skKNN(X)\n",
    "D_sk,I_sk = knn_sk.query(X, 5)"
   ]
  },
  {
   "cell_type": "code",
   "execution_count": 10,
   "metadata": {},
   "outputs": [
    {
     "name": "stdout",
     "output_type": "stream",
     "text": [
      "[[0.         0.26992688 0.32789377 0.45088524 0.46916262]\n",
      " [0.         0.25054785 0.25858603 0.33213581 0.3359959 ]\n",
      " [0.         0.07658132 0.19319607 0.29535102 0.31873834]\n",
      " [0.         0.07658132 0.24701223 0.29008768 0.35490796]\n",
      " [0.         0.06124295 0.25858603 0.26992688 0.34552677]\n",
      " [0.         0.29008768 0.33235061 0.34239906 0.34453975]\n",
      " [0.         0.41729051 0.55662489 0.56988857 0.62860851]\n",
      " [0.         0.20664876 0.22557434 0.24602948 0.30817013]\n",
      " [0.         0.22143674 0.22557434 0.31632205 0.41729051]\n",
      " [0.         0.1870529  0.34453975 0.36300933 0.36365033]\n",
      " [0.         0.24602948 0.24870108 0.31632205 0.38586587]\n",
      " [0.         0.20664876 0.22143674 0.22323878 0.29535102]\n",
      " [0.         0.1870529  0.19319607 0.22323878 0.24701223]\n",
      " [0.         0.06124295 0.25054785 0.30817013 0.31873834]\n",
      " [0.         0.24870108 0.3359959  0.42380675 0.55320388]]\n"
     ]
    }
   ],
   "source": [
    "print(str(D_sk))"
   ]
  },
  {
   "cell_type": "code",
   "execution_count": 11,
   "metadata": {},
   "outputs": [
    {
     "name": "stdout",
     "output_type": "stream",
     "text": [
      "CPU times: user 361 ms, sys: 169 ms, total: 530 ms\n",
      "Wall time: 534 ms\n"
     ]
    }
   ],
   "source": [
    "%%time\n",
    "X = cudf.DataFrame.from_pandas(X)"
   ]
  },
  {
   "cell_type": "code",
   "execution_count": 12,
   "metadata": {},
   "outputs": [
    {
     "name": "stdout",
     "output_type": "stream",
     "text": [
      "          fea0       fea1\n",
      " 0   0.9407548 0.85685587\n",
      " 1  0.47670612  0.9259385\n",
      " 2   0.7357783 0.43033025\n",
      " 3   0.8121523 0.42469975\n",
      " 4  0.68450236  0.7720312\n",
      " 5  0.92631614 0.15802114\n",
      " 6 0.017679134 0.07008498\n",
      " 7  0.35104445   0.618492\n",
      " 8  0.21902256 0.43558764\n",
      " 9   0.5868188  0.0992912\n",
      "[5 more rows]\n"
     ]
    }
   ],
   "source": [
    "print(str(X))"
   ]
  },
  {
   "cell_type": "code",
   "execution_count": 13,
   "metadata": {},
   "outputs": [
    {
     "name": "stdout",
     "output_type": "stream",
     "text": [
      "float32\n",
      "140699418756608\n",
      "15\n",
      "15\n",
      "2\n",
      "CPU times: user 132 ms, sys: 260 ms, total: 392 ms\n",
      "Wall time: 390 ms\n"
     ]
    }
   ],
   "source": [
    "%%time\n",
    "knn_cuml = cumlKNN()\n",
    "knn_cuml.fit(X)"
   ]
  },
  {
   "cell_type": "code",
   "execution_count": 14,
   "metadata": {},
   "outputs": [
    {
     "name": "stdout",
     "output_type": "stream",
     "text": [
      "        fea0       fea1\n",
      "0  0.9407548 0.85685587\n",
      "1 0.47670612  0.9259385\n",
      "2  0.7357783 0.43033025\n",
      "3  0.8121523 0.42469975\n"
     ]
    }
   ],
   "source": [
    "print(str(X[0:4]))"
   ]
  },
  {
   "cell_type": "code",
   "execution_count": 15,
   "metadata": {},
   "outputs": [
    {
     "name": "stdout",
     "output_type": "stream",
     "text": [
      "[[0.94075477 0.85685587]\n",
      " [0.47670612 0.92593849]\n",
      " [0.73577827 0.43033025]\n",
      " [0.81215233 0.42469975]]\n"
     ]
    }
   ],
   "source": [
    "print(str(np.asarray(X[0:4].as_gpu_matrix(order=\"C\"))))"
   ]
  },
  {
   "cell_type": "code",
   "execution_count": 16,
   "metadata": {},
   "outputs": [
    {
     "name": "stdout",
     "output_type": "stream",
     "text": [
      "15\n",
      "int64\n",
      "[ 0.  4. 13.  3.  1.  1. 13.  4.  7. 14.  2.  3. 12. 11. 13.  3.  2. 12.\n",
      "  5. 13.  4. 13.  1.  0.  2.  5.  3.  2. 12.  9.  6.  8. 11.  9. 12.  7.\n",
      " 11.  8. 10. 13.  8. 11.  7. 10.  6.  9. 12.  5.  2. 11. 10.  7. 14.  8.\n",
      "  1. 11.  7.  8. 12.  2. 12.  9.  2. 11.  3. 13.  4.  1.  7.  2. 14. 10.\n",
      "  1.  7. 13.]\n",
      "[-2.38418579e-07  7.28604794e-02  1.07514381e-01  2.03297377e-01\n",
      "  2.20113397e-01  0.00000000e+00  6.27741814e-02  6.68667555e-02\n",
      "  1.10314190e-01  1.12893224e-01  0.00000000e+00  5.86473942e-03\n",
      "  3.73247862e-02  8.72322321e-02  1.01594210e-01  1.19209290e-07\n",
      "  5.86473942e-03  6.10150099e-02  8.41509104e-02  1.25959635e-01\n",
      "  0.00000000e+00  3.75080109e-03  6.68667555e-02  7.28604794e-02\n",
      "  1.19388819e-01  1.19209290e-07  8.41509104e-02  1.10456944e-01\n",
      "  1.17237091e-01  1.18707716e-01  0.00000000e+00  1.74131349e-01\n",
      "  3.09831291e-01  3.24773014e-01  3.95148665e-01  0.00000000e+00\n",
      "  4.27036583e-02  5.08837402e-02  6.05305433e-02  9.49688554e-02\n",
      " -2.98023224e-08  4.90342379e-02  5.08837402e-02  1.00059599e-01\n",
      "  1.74131364e-01  5.96046448e-08  3.49888504e-02  1.18707716e-01\n",
      "  1.31775796e-01  1.32241577e-01  0.00000000e+00  6.05305433e-02\n",
      "  6.18521571e-02  1.00059599e-01  1.48892462e-01  0.00000000e+00\n",
      "  4.27036583e-02  4.90342379e-02  4.98355627e-02  8.72322619e-02\n",
      "  0.00000000e+00  3.49888504e-02  3.73247564e-02  4.98355627e-02\n",
      "  6.10149801e-02  0.00000000e+00  3.75080109e-03  6.27741814e-02\n",
      "  9.49688554e-02  1.01594210e-01  0.00000000e+00  6.18521571e-02\n",
      "  1.12893224e-01  1.79612100e-01  3.06034446e-01]\n",
      "[[ 0.  1.  2.  3.  4.  5.  6.  7.  8.  9. 10. 11. 12. 13. 14.]\n",
      " [ 4. 13.  3.  2. 13.  3.  8. 11. 11. 12.  7.  7.  9.  4. 10.]\n",
      " [13.  4. 12. 12.  1.  2. 11.  8.  7.  5. 14.  8.  2.  1.  1.]\n",
      " [ 3.  7. 11.  5.  0. 12.  9. 10. 10.  2.  8. 12. 11.  7.  7.]\n",
      " [ 1. 14. 13. 13.  2.  9. 12. 13.  6. 11.  1.  2.  3.  2. 13.]]\n",
      "Complete\n"
     ]
    }
   ],
   "source": [
    "D_cuml, I_cuml = knn_cuml.query(X,5)"
   ]
  },
  {
   "cell_type": "code",
   "execution_count": 17,
   "metadata": {},
   "outputs": [
    {
     "name": "stdout",
     "output_type": "stream",
     "text": [
      "      0    1    2    3    4\n",
      " 0    0    4   13    3    1\n",
      " 1    1   13    4    7   14\n",
      " 2    2    3   12   11   13\n",
      " 3    3    2   12    5   13\n",
      " 4    4   13    1    0    2\n",
      " 5    5    3    2   12    9\n",
      " 6    6    8   11    9   12\n",
      " 7    7   11    8   10   13\n",
      " 8    8   11    7   10    6\n",
      " 9    9   12    5    2   11\n",
      "[5 more rows]\n"
     ]
    }
   ],
   "source": [
    "print(str(I_cuml))"
   ]
  },
  {
   "cell_type": "code",
   "execution_count": 18,
   "metadata": {},
   "outputs": [
    {
     "data": {
      "text/plain": [
       "array([[ 0,  4, 13,  3,  1],\n",
       "       [ 1, 13,  4,  7, 14],\n",
       "       [ 2,  3, 12, 11, 13],\n",
       "       [ 3,  2, 12,  5, 13],\n",
       "       [ 4, 13,  1,  0,  2],\n",
       "       [ 5,  3,  2, 12,  9],\n",
       "       [ 6,  8, 11,  9, 12],\n",
       "       [ 7, 11,  8, 10, 13],\n",
       "       [ 8, 11,  7, 10,  6],\n",
       "       [ 9, 12,  5,  2, 11],\n",
       "       [10,  7, 14,  8,  1],\n",
       "       [11,  7,  8, 12,  2],\n",
       "       [12,  9,  2, 11,  3],\n",
       "       [13,  4,  1,  7,  2],\n",
       "       [14, 10,  1,  7, 13]])"
      ]
     },
     "execution_count": 18,
     "metadata": {},
     "output_type": "execute_result"
    }
   ],
   "source": [
    "I_sk"
   ]
  },
  {
   "cell_type": "code",
   "execution_count": 19,
   "metadata": {},
   "outputs": [
    {
     "name": "stdout",
     "output_type": "stream",
     "text": [
      "[[0.         0.26992688 0.32789377 0.45088524 0.46916262]\n",
      " [0.         0.25054785 0.25858603 0.33213581 0.3359959 ]\n",
      " [0.         0.07658132 0.19319607 0.29535102 0.31873834]\n",
      " [0.         0.07658132 0.24701223 0.29008768 0.35490796]\n",
      " [0.         0.06124295 0.25858603 0.26992688 0.34552677]\n",
      " [0.         0.29008768 0.33235061 0.34239906 0.34453975]\n",
      " [0.         0.41729051 0.55662489 0.56988857 0.62860851]\n",
      " [0.         0.20664876 0.22557434 0.24602948 0.30817013]\n",
      " [0.         0.22143674 0.22557434 0.31632205 0.41729051]\n",
      " [0.         0.1870529  0.34453975 0.36300933 0.36365033]\n",
      " [0.         0.24602948 0.24870108 0.31632205 0.38586587]\n",
      " [0.         0.20664876 0.22143674 0.22323878 0.29535102]\n",
      " [0.         0.1870529  0.19319607 0.22323878 0.24701223]\n",
      " [0.         0.06124295 0.25054785 0.30817013 0.31873834]\n",
      " [0.         0.24870108 0.3359959  0.42380675 0.55320388]]\n",
      "[[-2.38418579e-07  7.28604794e-02  1.07514381e-01  2.03297377e-01\n",
      "   2.20113397e-01]\n",
      " [ 0.00000000e+00  6.27741814e-02  6.68667555e-02  1.10314190e-01\n",
      "   1.12893224e-01]\n",
      " [ 0.00000000e+00  5.86473942e-03  3.73247862e-02  8.72322321e-02\n",
      "   1.01594210e-01]\n",
      " [ 1.19209290e-07  5.86473942e-03  6.10150099e-02  8.41509104e-02\n",
      "   1.25959635e-01]\n",
      " [ 0.00000000e+00  3.75080109e-03  6.68667555e-02  7.28604794e-02\n",
      "   1.19388819e-01]\n",
      " [ 1.19209290e-07  8.41509104e-02  1.10456944e-01  1.17237091e-01\n",
      "   1.18707716e-01]\n",
      " [ 0.00000000e+00  1.74131349e-01  3.09831291e-01  3.24773014e-01\n",
      "   3.95148665e-01]\n",
      " [ 0.00000000e+00  4.27036583e-02  5.08837402e-02  6.05305433e-02\n",
      "   9.49688554e-02]\n",
      " [-2.98023224e-08  4.90342379e-02  5.08837402e-02  1.00059599e-01\n",
      "   1.74131364e-01]\n",
      " [ 5.96046448e-08  3.49888504e-02  1.18707716e-01  1.31775796e-01\n",
      "   1.32241577e-01]\n",
      " [ 0.00000000e+00  6.05305433e-02  6.18521571e-02  1.00059599e-01\n",
      "   1.48892462e-01]\n",
      " [ 0.00000000e+00  4.27036583e-02  4.90342379e-02  4.98355627e-02\n",
      "   8.72322619e-02]\n",
      " [ 0.00000000e+00  3.49888504e-02  3.73247564e-02  4.98355627e-02\n",
      "   6.10149801e-02]\n",
      " [ 0.00000000e+00  3.75080109e-03  6.27741814e-02  9.49688554e-02\n",
      "   1.01594210e-01]\n",
      " [ 0.00000000e+00  6.18521571e-02  1.12893224e-01  1.79612100e-01\n",
      "   3.06034446e-01]]\n",
      "compare knn: cuml vs sklearn distances NOT equal\n",
      "[[ 0  4 13  3  1]\n",
      " [ 1 13  4  7 14]\n",
      " [ 2  3 12 11 13]\n",
      " [ 3  2 12  5 13]\n",
      " [ 4 13  1  0  2]\n",
      " [ 5  3  2 12  9]\n",
      " [ 6  8 11  9 12]\n",
      " [ 7 11  8 10 13]\n",
      " [ 8 11  7 10  6]\n",
      " [ 9 12  5  2 11]\n",
      " [10  7 14  8  1]\n",
      " [11  7  8 12  2]\n",
      " [12  9  2 11  3]\n",
      " [13  4  1  7  2]\n",
      " [14 10  1  7 13]]\n",
      "[[ 0  4 13  3  1]\n",
      " [ 1 13  4  7 14]\n",
      " [ 2  3 12 11 13]\n",
      " [ 3  2 12  5 13]\n",
      " [ 4 13  1  0  2]\n",
      " [ 5  3  2 12  9]\n",
      " [ 6  8 11  9 12]\n",
      " [ 7 11  8 10 13]\n",
      " [ 8 11  7 10  6]\n",
      " [ 9 12  5  2 11]\n",
      " [10  7 14  8  1]\n",
      " [11  7  8 12  2]\n",
      " [12  9  2 11  3]\n",
      " [13  4  1  7  2]\n",
      " [14 10  1  7 13]]\n",
      "compare knn: cuml vs sklearn indexes equal\n"
     ]
    }
   ],
   "source": [
    "passed = array_equal(D_sk,D_cuml)\n",
    "message = 'compare knn: cuml vs sklearn distances %s'%('equal'if passed else 'NOT equal')\n",
    "print(message)\n",
    "passed = array_equal(I_sk,I_cuml)\n",
    "message = 'compare knn: cuml vs sklearn indexes %s'%('equal'if passed else 'NOT equal')\n",
    "print(message)"
   ]
  },
  {
   "cell_type": "code",
   "execution_count": 20,
   "metadata": {},
   "outputs": [],
   "source": [
    "a = np.zeros((30, 2), dtype=np.int64)"
   ]
  },
  {
   "cell_type": "code",
   "execution_count": 21,
   "metadata": {},
   "outputs": [],
   "source": [
    "def to_cudf(df, col=''):\n",
    "    # convert pandas dataframe to cudf dataframe\n",
    "    if isinstance(df,np.ndarray):\n",
    "        df = pd.DataFrame({'%s_neighbor_%d'%(col, i): df[:, i] for i in range(df.shape[1])})\n",
    "    pdf = cudf.DataFrame.from_pandas(df)\n",
    "    return pdf"
   ]
  },
  {
   "cell_type": "code",
   "execution_count": 22,
   "metadata": {},
   "outputs": [
    {
     "data": {
      "text/plain": [
       "<cudf.DataFrame ncols=2 nrows=30 >"
      ]
     },
     "execution_count": 22,
     "metadata": {},
     "output_type": "execute_result"
    }
   ],
   "source": [
    "to_cudf(a)"
   ]
  },
  {
   "cell_type": "code",
   "execution_count": null,
   "metadata": {},
   "outputs": [],
   "source": []
  }
 ],
 "metadata": {
  "kernelspec": {
   "display_name": "Python [conda env:cuml]",
   "language": "python",
   "name": "conda-env-cuml-py"
  },
  "language_info": {
   "codemirror_mode": {
    "name": "ipython",
    "version": 3
   },
   "file_extension": ".py",
   "mimetype": "text/x-python",
   "name": "python",
   "nbconvert_exporter": "python",
   "pygments_lexer": "ipython3",
   "version": "3.5.6"
  }
 },
 "nbformat": 4,
 "nbformat_minor": 2
}
