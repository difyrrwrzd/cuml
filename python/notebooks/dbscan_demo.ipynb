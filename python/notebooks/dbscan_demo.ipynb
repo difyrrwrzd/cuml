{
 "cells": [
  {
   "cell_type": "code",
   "execution_count": 1,
   "metadata": {},
   "outputs": [],
   "source": [
    "import numpy as np\n",
    "import pandas as pd\n",
    "from sklearn.cluster import DBSCAN as skDBSCAN\n",
    "from cuml import DBSCAN as cumlDBSCAN\n",
    "import cudf\n",
    "import os"
   ]
  },
  {
   "cell_type": "markdown",
   "metadata": {},
   "source": [
    "# Helper Functions"
   ]
  },
  {
   "cell_type": "code",
   "execution_count": 2,
   "metadata": {},
   "outputs": [],
   "source": [
    "from timeit import default_timer\n",
    "\n",
    "class Timer(object):\n",
    "    def __init__(self):\n",
    "        self._timer = default_timer\n",
    "    \n",
    "    def __enter__(self):\n",
    "        self.start()\n",
    "        return self\n",
    "\n",
    "    def __exit__(self, *args):\n",
    "        self.stop()\n",
    "\n",
    "    def start(self):\n",
    "        \"\"\"Start the timer.\"\"\"\n",
    "        self.start = self._timer()\n",
    "\n",
    "    def stop(self):\n",
    "        \"\"\"Stop the timer. Calculate the interval in seconds.\"\"\"\n",
    "        self.end = self._timer()\n",
    "        self.interval = self.end - self.start"
   ]
  },
  {
   "cell_type": "code",
   "execution_count": 3,
   "metadata": {},
   "outputs": [],
   "source": [
    "import gzip\n",
    "def load_data(nrows, ncols, cached = 'data/mortgage.npy.gz'):\n",
    "    if os.path.exists(cached):\n",
    "        print('use mortgage data')\n",
    "        with gzip.open(cached) as f:\n",
    "            X = np.load(f)\n",
    "        X = X[np.random.randint(0,X.shape[0]-1,nrows),:ncols]\n",
    "    else:\n",
    "        print('use random data')\n",
    "        X = np.random.rand(nrows,ncols)\n",
    "    df = pd.DataFrame({'fea%d'%i:X[:,i] for i in range(X.shape[1])})\n",
    "    return df"
   ]
  },
  {
   "cell_type": "code",
   "execution_count": 4,
   "metadata": {},
   "outputs": [],
   "source": [
    "from sklearn.metrics import mean_squared_error\n",
    "def array_equal(a,b,threshold=5e-3,with_sign=True):\n",
    "    a = to_nparray(a)\n",
    "    b = to_nparray(b)\n",
    "    if with_sign == False:\n",
    "        a,b = np.abs(a),np.abs(b)\n",
    "    res = mean_squared_error(a,b)<threshold\n",
    "    return res\n",
    "\n",
    "def to_nparray(x):\n",
    "    if isinstance(x,np.ndarray) or isinstance(x,pd.DataFrame):\n",
    "        return np.array(x)\n",
    "    elif isinstance(x,np.float64):\n",
    "        return np.array([x])\n",
    "    elif isinstance(x,cudf.DataFrame) or isinstance(x,cudf.Series):\n",
    "        return x.to_pandas().values\n",
    "    return x"
   ]
  },
  {
   "cell_type": "markdown",
   "metadata": {},
   "source": [
    "# Run tests"
   ]
  },
  {
   "cell_type": "code",
   "execution_count": 21,
   "metadata": {},
   "outputs": [
    {
     "name": "stdout",
     "output_type": "stream",
     "text": [
      "use mortgage data\n",
      "data (1000, 128)\n",
      "CPU times: user 5.78 s, sys: 708 ms, total: 6.48 s\n",
      "Wall time: 6.48 s\n"
     ]
    }
   ],
   "source": [
    "%%time\n",
    "nrows = 1000\n",
    "ncols = 128\n",
    "\n",
    "X = load_data(nrows,ncols)\n",
    "print('data',X.shape)"
   ]
  },
  {
   "cell_type": "code",
   "execution_count": 22,
   "metadata": {},
   "outputs": [],
   "source": [
    "eps = 0.3\n",
    "min_samples = 2"
   ]
  },
  {
   "cell_type": "code",
   "execution_count": 23,
   "metadata": {},
   "outputs": [
    {
     "name": "stdout",
     "output_type": "stream",
     "text": [
      "CPU times: user 200 ms, sys: 0 ns, total: 200 ms\n",
      "Wall time: 198 ms\n"
     ]
    }
   ],
   "source": [
    "%%time\n",
    "clustering_sk = skDBSCAN(eps = eps, min_samples = min_samples)\n",
    "clustering_sk.fit(X)"
   ]
  },
  {
   "cell_type": "code",
   "execution_count": 24,
   "metadata": {},
   "outputs": [
    {
     "name": "stdout",
     "output_type": "stream",
     "text": [
      "CPU times: user 480 ms, sys: 0 ns, total: 480 ms\n",
      "Wall time: 476 ms\n"
     ]
    }
   ],
   "source": [
    "%%time\n",
    "X = cudf.DataFrame.from_pandas(X)"
   ]
  },
  {
   "cell_type": "code",
   "execution_count": null,
   "metadata": {},
   "outputs": [],
   "source": [
    "%%time\n",
    "clustering_cuml = cumlDBSCAN(eps = eps, min_samples = min_samples)\n",
    "clustering_cuml.fit(X)"
   ]
  },
  {
   "cell_type": "code",
   "execution_count": 18,
   "metadata": {},
   "outputs": [
    {
     "name": "stdout",
     "output_type": "stream",
     "text": [
      "[-1  1 -1  1  2 -1  3  4  5  6 -1  7  8  9 10 -1 -1 -1 11 -1 -1 -1  9 -1\n",
      "  9 -1 12 12 13 14 15 -1 12 16  4 17  9  6 12  2 -1 13 -1 17 12 -1 -1 18\n",
      " 16 -1 19 20  4  1 21 17 16 -1  6  8  9 17 20 20 -1 20 22 -1  9 23  2 -1\n",
      "  5 -1 -1  6 -1 -1  4 -1  2 13 -1 22 -1 14 -1 24 -1 -1 -1 -1  6 25 -1 17\n",
      "  6 -1 24 -1 10 10 -1  2 19 26  5  1  9 -1 20  4 26 -1  9 19 -1 -1 -1  4\n",
      " -1 18 -1 -1 -1 25 -1 -1 19 -1 -1 12 -1 27  4 -1 -1 17 -1 25  9 17 28 29\n",
      " 19 15 30 -1 31  1 -1 32 33 -1 25 -1 -1 -1 20 34 -1 31 -1 28 -1 32 -1 -1\n",
      " 30 -1 -1 -1 27 -1 33 26 -1 -1 -1  7  9 -1 35  4  1 -1  3  4 11 36 -1 12\n",
      " -1 -1 37  2 23 -1  5 -1 23 -1  9 -1 26 -1 -1 38 27 -1 -1 -1  9 10 36  4\n",
      " 26 25 -1 39 37 -1 -1  9 -1 -1 12  7 39 -1 25 -1  7 -1 15 -1  7 21 -1 -1\n",
      " -1 -1 34  2 19  8 -1 38 -1 35  2 29 -1 10  6 30]\n"
     ]
    }
   ],
   "source": [
    "l = clustering_sk.labels_\n",
    "print(str(l[l !=0]))"
   ]
  },
  {
   "cell_type": "code",
   "execution_count": 19,
   "metadata": {},
   "outputs": [
    {
     "name": "stdout",
     "output_type": "stream",
     "text": [
      "[-1  1 -1  1  2 -1  3  4  5  6 -1  7  8  9 10 -1 -1 -1 11 -1 -1 -1  9 -1\n",
      "  9 -1 12 12 13 14 15 -1 12 16  4 17  9  6 12  2 -1 13 -1 17 12 -1 -1 18\n",
      " 16 -1 19 20  4  1 21 17 16 -1  6  8  9 17 20 20 -1 20 22 -1  9 23  2 -1\n",
      "  5 -1 -1  6 -1 -1  4 -1  2 13 -1 22 -1 14 -1 24 -1 -1 -1 -1  6 25 -1 17\n",
      "  6 -1 24 -1 10 10 -1  2 19 26  5  1  9 -1 20  4 26 -1  9 19 -1 -1 -1  4\n",
      " -1 18 -1 -1 -1 25 -1 -1 19 -1 -1 12 -1 27  4 -1 -1 17 -1 25  9 17 28 29\n",
      " 19 15 30 -1 31  1 -1 32 33 -1 25 -1 -1 -1 20 34 -1 31 -1 28 -1 32 -1 -1\n",
      " 30 -1 -1 -1 27 -1 33 26 -1 -1 -1  7  9 -1 35  4  1 -1  3  4 11 36 -1 12\n",
      " -1 -1 37  2 23 -1  5 -1 23 -1  9 -1 26 -1 -1 38 27 -1 -1 -1  9 10 36  4\n",
      " 26 25 -1 39 37 -1 -1  9 -1 -1 12  7 39 -1 25 -1  7 -1 15 -1  7 21 -1 -1\n",
      " -1 -1 34  2 19  8 -1 38 -1 35  2 29 -1 10  6 30]\n"
     ]
    }
   ],
   "source": [
    "l2 = clustering_cuml.labels_\n",
    "print(str(l2[l2 != 0].to_array()))"
   ]
  },
  {
   "cell_type": "code",
   "execution_count": 20,
   "metadata": {},
   "outputs": [
    {
     "name": "stdout",
     "output_type": "stream",
     "text": [
      "compare dbscan: cuml vs sklearn labels_ equal\n"
     ]
    }
   ],
   "source": [
    "passed = array_equal(clustering_sk.labels_,clustering_cuml.labels_)\n",
    "message = 'compare dbscan: cuml vs sklearn labels_ %s'%('equal'if passed else 'NOT equal')\n",
    "print(message)"
   ]
  },
  {
   "cell_type": "code",
   "execution_count": null,
   "metadata": {},
   "outputs": [],
   "source": []
  }
 ],
 "metadata": {
  "kernelspec": {
   "display_name": "Python [conda env:dev_env]",
   "language": "python",
   "name": "conda-env-dev_env-py"
  },
  "language_info": {
   "codemirror_mode": {
    "name": "ipython",
    "version": 3
   },
   "file_extension": ".py",
   "mimetype": "text/x-python",
   "name": "python",
   "nbconvert_exporter": "python",
   "pygments_lexer": "ipython3",
   "version": "3.5.5"
  }
 },
 "nbformat": 4,
 "nbformat_minor": 2
}
